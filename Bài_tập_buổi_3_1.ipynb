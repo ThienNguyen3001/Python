{
  "nbformat": 4,
  "nbformat_minor": 0,
  "metadata": {
    "colab": {
      "provenance": [],
      "authorship_tag": "ABX9TyM4+3RGQSe2Vf+bZjdcJw4/",
      "include_colab_link": true
    },
    "kernelspec": {
      "name": "python3",
      "display_name": "Python 3"
    },
    "language_info": {
      "name": "python"
    }
  },
  "cells": [
    {
      "cell_type": "markdown",
      "metadata": {
        "id": "view-in-github",
        "colab_type": "text"
      },
      "source": [
        "<a href=\"https://colab.research.google.com/github/ThienNguyen3001/Python/blob/main/B%C3%A0i_t%E1%BA%ADp_bu%E1%BB%95i_3_1.ipynb\" target=\"_parent\"><img src=\"https://colab.research.google.com/assets/colab-badge.svg\" alt=\"Open In Colab\"/></a>"
      ]
    },
    {
      "cell_type": "markdown",
      "source": [
        "#1"
      ],
      "metadata": {
        "id": "4Z3hgtCIgUO7"
      }
    },
    {
      "cell_type": "code",
      "source": [
        "base = float(input(\"base:\"))\n",
        "height = float(input(\"height:\"))\n",
        "area = (base*height*0.5)\n",
        "print(area)"
      ],
      "metadata": {
        "colab": {
          "base_uri": "https://localhost:8080/"
        },
        "id": "jprMzGwxgVcj",
        "outputId": "d364183c-23f8-4bd5-ed89-3744a66024ee"
      },
      "execution_count": 1,
      "outputs": [
        {
          "output_type": "stream",
          "name": "stdout",
          "text": [
            "base:1\n",
            "height:2\n",
            "1.0\n"
          ]
        }
      ]
    },
    {
      "cell_type": "markdown",
      "source": [
        "#2"
      ],
      "metadata": {
        "id": "qUTWQ-BmgsHq"
      }
    },
    {
      "cell_type": "code",
      "source": [
        "side_a = float(input(\"side_a:\"))\n",
        "side_b = float(input(\"side_b:\"))\n",
        "side_c = float(input(\"side_c:\"))\n",
        "perimeter  = side_a+side_b+side_c\n",
        "print(perimeter)"
      ],
      "metadata": {
        "colab": {
          "base_uri": "https://localhost:8080/"
        },
        "id": "4j_RlA00gsla",
        "outputId": "6f631a43-295c-47e1-9d28-9da487887f7d"
      },
      "execution_count": 23,
      "outputs": [
        {
          "output_type": "stream",
          "name": "stdout",
          "text": [
            "side_a:1\n",
            "side_b:2\n",
            "side_c:3\n",
            "6.0\n"
          ]
        }
      ]
    },
    {
      "cell_type": "markdown",
      "source": [
        "#3"
      ],
      "metadata": {
        "id": "2CfS12OXg3Vt"
      }
    },
    {
      "cell_type": "code",
      "source": [
        "lenght = float(input(\"lenght:\"))\n",
        "width = float(input(\"width:\"))\n",
        "area = lenght*width\n",
        "perimeter = 2*(lenght+width)\n",
        "print(area, perimeter)"
      ],
      "metadata": {
        "colab": {
          "base_uri": "https://localhost:8080/"
        },
        "id": "6R81K0Zbg19t",
        "outputId": "bc64df44-efcc-40f0-e86c-687c306e4e68"
      },
      "execution_count": 5,
      "outputs": [
        {
          "output_type": "stream",
          "name": "stdout",
          "text": [
            "lenght:1\n",
            "width:2\n",
            "2.0 6.0\n"
          ]
        }
      ]
    },
    {
      "cell_type": "markdown",
      "source": [
        "#4"
      ],
      "metadata": {
        "id": "-txY-Vy2hJcJ"
      }
    },
    {
      "cell_type": "code",
      "source": [
        "radius = float(input(\"radius:\"))\n",
        "pi = 3.14\n",
        "area = pi*radius**2\n",
        "circumference = 2*pi*radius\n",
        "print(area, circumference)"
      ],
      "metadata": {
        "colab": {
          "base_uri": "https://localhost:8080/"
        },
        "id": "uhQOS3QChIOB",
        "outputId": "a9d2109a-d83f-426d-bb23-1c7047e6cc63"
      },
      "execution_count": 6,
      "outputs": [
        {
          "output_type": "stream",
          "name": "stdout",
          "text": [
            "radius:1\n",
            "3.14 6.28\n"
          ]
        }
      ]
    },
    {
      "cell_type": "markdown",
      "source": [
        "#5"
      ],
      "metadata": {
        "id": "RGMpWLBchOzo"
      }
    },
    {
      "cell_type": "code",
      "source": [
        "def equation(x):\n",
        "  return 2*x - 2\n",
        "\n",
        "y_intercept = equation(0)\n",
        "x_intercept = 2 / 2\n",
        "\n",
        "print(\"Slope:\", 2)\n",
        "print(\"Y-intercept:\", y_intercept)\n",
        "print(\"X-intercept:\", x_intercept)"
      ],
      "metadata": {
        "colab": {
          "base_uri": "https://localhost:8080/"
        },
        "id": "astx7bUthPgA",
        "outputId": "5fa6612a-58cf-4bba-f9e1-b0c3d35b4933"
      },
      "execution_count": 7,
      "outputs": [
        {
          "output_type": "stream",
          "name": "stdout",
          "text": [
            "Slope: 2\n",
            "Y-intercept: -2\n",
            "X-intercept: 1.0\n"
          ]
        }
      ]
    },
    {
      "cell_type": "markdown",
      "source": [
        "#6"
      ],
      "metadata": {
        "id": "-EF3WoOeit_n"
      }
    },
    {
      "cell_type": "code",
      "source": [
        "import math\n",
        "x1, y1 = 2, 2\n",
        "x2, y2 = 6, 10\n",
        "\n",
        "slope = (y2 - y1) / (x2 - x1)\n",
        "distance = math.sqrt((x2 - x1)**2 + (y2 - y1)**2)\n",
        "\n",
        "print(f\"Slope: {slope}\")\n",
        "print(f\"Euclidean Distance: {distance:.2f}\")"
      ],
      "metadata": {
        "colab": {
          "base_uri": "https://localhost:8080/"
        },
        "id": "GLY9Rdyiiuw2",
        "outputId": "1d281b57-5112-4b1c-c73c-46a6e181da81"
      },
      "execution_count": 19,
      "outputs": [
        {
          "output_type": "stream",
          "name": "stdout",
          "text": [
            "Slope: 2.0\n",
            "Euclidean Distance: 8.94\n"
          ]
        }
      ]
    },
    {
      "cell_type": "markdown",
      "source": [
        "#8"
      ],
      "metadata": {
        "id": "7kNNdueMi20H"
      }
    },
    {
      "cell_type": "code",
      "source": [
        "def equation(x):\n",
        "  y = x**2 + 6*x + 9\n",
        "  return y\n",
        "print(equation(-3))"
      ],
      "metadata": {
        "colab": {
          "base_uri": "https://localhost:8080/"
        },
        "id": "FcAN3DTWi4lq",
        "outputId": "e25bc9f2-bcfd-49fa-8a5f-e110120457ce"
      },
      "execution_count": 22,
      "outputs": [
        {
          "output_type": "stream",
          "name": "stdout",
          "text": [
            "0\n"
          ]
        }
      ]
    },
    {
      "cell_type": "markdown",
      "source": [
        "#9"
      ],
      "metadata": {
        "id": "Q5U1royGjKXF"
      }
    },
    {
      "cell_type": "code",
      "source": [
        "str1 = 'python'\n",
        "str2 = 'dragon'\n",
        "if (len(str1) > len(str2)):\n",
        "  print(str1)\n",
        "else:\n",
        "  print(str2)"
      ],
      "metadata": {
        "colab": {
          "base_uri": "https://localhost:8080/"
        },
        "id": "P6Hn20LxjK_8",
        "outputId": "5284c220-9707-47cc-a03d-5282ac101b77"
      },
      "execution_count": 8,
      "outputs": [
        {
          "output_type": "stream",
          "name": "stdout",
          "text": [
            "dragon\n"
          ]
        }
      ]
    },
    {
      "cell_type": "markdown",
      "source": [
        "#10"
      ],
      "metadata": {
        "id": "3of8PbORjjh_"
      }
    },
    {
      "cell_type": "code",
      "source": [
        "if ('on' in 'Python' and 'on' in 'dragon'):\n",
        "  print('Yes')\n",
        "else:\n",
        "  print('No')"
      ],
      "metadata": {
        "colab": {
          "base_uri": "https://localhost:8080/"
        },
        "id": "dQXBYDEtjYRQ",
        "outputId": "816fba29-b7a7-45de-eaa7-9c21c46ed7b9"
      },
      "execution_count": 9,
      "outputs": [
        {
          "output_type": "stream",
          "name": "stdout",
          "text": [
            "Yes\n"
          ]
        }
      ]
    },
    {
      "cell_type": "markdown",
      "source": [
        "#11"
      ],
      "metadata": {
        "id": "2-ukbIkhj2PO"
      }
    },
    {
      "cell_type": "code",
      "source": [
        "sen = 'I hope this course is not full of jargon.'\n",
        "if ('jargon' in sen):\n",
        "  print('Yes')\n",
        "else:\n",
        "  print('No')"
      ],
      "metadata": {
        "colab": {
          "base_uri": "https://localhost:8080/"
        },
        "id": "oPPMj0H0jukT",
        "outputId": "15f9193f-7114-4b93-a33b-3928eb704627"
      },
      "execution_count": 11,
      "outputs": [
        {
          "output_type": "stream",
          "name": "stdout",
          "text": [
            "Yes\n"
          ]
        }
      ]
    },
    {
      "cell_type": "markdown",
      "source": [
        "#12"
      ],
      "metadata": {
        "id": "4S8L6MZHj8Ot"
      }
    },
    {
      "cell_type": "code",
      "source": [
        "if ('on' in 'Python' and 'on' in 'dragon'):\n",
        "  print('Yes')\n",
        "else:\n",
        "  print('No')"
      ],
      "metadata": {
        "colab": {
          "base_uri": "https://localhost:8080/"
        },
        "id": "iIwt5My6jzSl",
        "outputId": "8bcde661-31e5-4627-af3a-3bb53cea49be"
      },
      "execution_count": 13,
      "outputs": [
        {
          "output_type": "stream",
          "name": "stdout",
          "text": [
            "Yes\n"
          ]
        }
      ]
    },
    {
      "cell_type": "markdown",
      "source": [
        "#13"
      ],
      "metadata": {
        "id": "z-At6zDUkVVd"
      }
    },
    {
      "cell_type": "code",
      "source": [
        "my_str = 'Python'\n",
        "print('float lenght:',float(len(my_str)))\n",
        "print('string lenght:',str(len(my_str)))"
      ],
      "metadata": {
        "colab": {
          "base_uri": "https://localhost:8080/"
        },
        "id": "fagiX8bdj74V",
        "outputId": "8234d443-cc9f-4720-80f9-e56f1cb45c9c"
      },
      "execution_count": 14,
      "outputs": [
        {
          "output_type": "stream",
          "name": "stdout",
          "text": [
            "float lenght: 6.0\n",
            "string lenght: 6\n"
          ]
        }
      ]
    },
    {
      "cell_type": "markdown",
      "source": [
        "#14"
      ],
      "metadata": {
        "id": "lLho0oUvkbik"
      }
    },
    {
      "cell_type": "code",
      "source": [
        "n = int(input())\n",
        "if (n % 2 == 0):\n",
        "  print('even')\n",
        "else:\n",
        "  print('not even')"
      ],
      "metadata": {
        "colab": {
          "base_uri": "https://localhost:8080/"
        },
        "id": "AQnunFSxkL_p",
        "outputId": "f47775ba-19ad-4717-896a-21572351377e"
      },
      "execution_count": 15,
      "outputs": [
        {
          "output_type": "stream",
          "name": "stdout",
          "text": [
            "3\n",
            "not even\n"
          ]
        }
      ]
    },
    {
      "cell_type": "markdown",
      "source": [
        "#15"
      ],
      "metadata": {
        "id": "yBX-oeo3kjtQ"
      }
    },
    {
      "cell_type": "code",
      "source": [
        "hours = int(input())\n",
        "rate = int(input())\n",
        "print(hours*rate)"
      ],
      "metadata": {
        "colab": {
          "base_uri": "https://localhost:8080/"
        },
        "id": "rZEODbEOkiu-",
        "outputId": "db704d90-25f2-47ad-ce4e-4eb1607a0f2c"
      },
      "execution_count": 17,
      "outputs": [
        {
          "output_type": "stream",
          "name": "stdout",
          "text": [
            "3\n",
            "4\n",
            "12\n"
          ]
        }
      ]
    },
    {
      "cell_type": "markdown",
      "source": [
        "#16"
      ],
      "metadata": {
        "id": "_PMCh8lKktR2"
      }
    },
    {
      "cell_type": "code",
      "source": [
        "year = int(input())\n",
        "print(year*365*24*60*60)"
      ],
      "metadata": {
        "colab": {
          "base_uri": "https://localhost:8080/"
        },
        "id": "fLbI3mGAktyx",
        "outputId": "43ab9275-70ed-4c84-cf71-8e480158dc6f"
      },
      "execution_count": 18,
      "outputs": [
        {
          "output_type": "stream",
          "name": "stdout",
          "text": [
            "3\n",
            "94608000\n"
          ]
        }
      ]
    }
  ]
}