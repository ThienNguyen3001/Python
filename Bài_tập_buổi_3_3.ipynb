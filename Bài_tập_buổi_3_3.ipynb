{
  "nbformat": 4,
  "nbformat_minor": 0,
  "metadata": {
    "colab": {
      "provenance": [],
      "include_colab_link": true
    },
    "kernelspec": {
      "name": "python3",
      "display_name": "Python 3"
    },
    "language_info": {
      "name": "python"
    }
  },
  "cells": [
    {
      "cell_type": "markdown",
      "metadata": {
        "id": "view-in-github",
        "colab_type": "text"
      },
      "source": [
        "<a href=\"https://colab.research.google.com/github/ThienNguyen3001/Python/blob/main/B%C3%A0i_t%E1%BA%ADp_bu%E1%BB%95i_3_3.ipynb\" target=\"_parent\"><img src=\"https://colab.research.google.com/assets/colab-badge.svg\" alt=\"Open In Colab\"/></a>"
      ]
    },
    {
      "cell_type": "markdown",
      "source": [
        "# 1"
      ],
      "metadata": {
        "id": "yIonhfKNrXUa"
      }
    },
    {
      "cell_type": "code",
      "execution_count": null,
      "metadata": {
        "colab": {
          "base_uri": "https://localhost:8080/"
        },
        "id": "hNBIRTysrT39",
        "outputId": "db10d102-7cca-4ed3-e0f8-76a77472ef2b"
      },
      "outputs": [
        {
          "output_type": "stream",
          "name": "stdout",
          "text": [
            "0\n",
            "1\n",
            "2\n",
            "3\n",
            "4\n",
            "5\n",
            "6\n",
            "7\n",
            "8\n",
            "9\n",
            "10\n"
          ]
        }
      ],
      "source": [
        "for i in range(11):\n",
        "  print(i)"
      ]
    },
    {
      "cell_type": "markdown",
      "source": [
        "# 2"
      ],
      "metadata": {
        "id": "zREpTHFarpkA"
      }
    },
    {
      "cell_type": "code",
      "source": [
        "num = int(input())\n",
        "sum = 0\n",
        "for i in range (num+1):\n",
        "  sum += i\n",
        "print(sum)"
      ],
      "metadata": {
        "colab": {
          "base_uri": "https://localhost:8080/"
        },
        "id": "_BUYoaLQro6Z",
        "outputId": "72b1b1f5-ff25-46ff-c4f8-5b4c6b88b2f6"
      },
      "execution_count": null,
      "outputs": [
        {
          "output_type": "stream",
          "name": "stdout",
          "text": [
            "8\n",
            "36\n"
          ]
        }
      ]
    },
    {
      "cell_type": "markdown",
      "source": [
        "# 3"
      ],
      "metadata": {
        "id": "XqWnhuOSr1Y3"
      }
    },
    {
      "cell_type": "code",
      "source": [
        "num = int(input())\n",
        "print('even list: ',end='')\n",
        "for i in range(num+1):\n",
        "  if i%2 == 0:\n",
        "    print(i,end=' ')\n",
        "\n",
        "print('\\nodd list: ',end='')\n",
        "for i in range(num+1):\n",
        "  if i%2 != 0:\n",
        "    print(i,end =' ')"
      ],
      "metadata": {
        "colab": {
          "base_uri": "https://localhost:8080/"
        },
        "id": "YG3XuxpdryPm",
        "outputId": "6d54df77-8a56-4155-a005-f729d623bc36"
      },
      "execution_count": null,
      "outputs": [
        {
          "output_type": "stream",
          "name": "stdout",
          "text": [
            "8\n",
            "even list: 0 2 4 6 8 \n",
            "odd list: 1 3 5 7 "
          ]
        }
      ]
    },
    {
      "cell_type": "markdown",
      "source": [
        "# 4"
      ],
      "metadata": {
        "id": "Epc4gldysaAM"
      }
    },
    {
      "cell_type": "code",
      "source": [
        "vowels = 'euoai'\n",
        "s = input()\n",
        "count = 0\n",
        "for i in vowels:\n",
        "  if i in s:\n",
        "    count += s.count(i)\n",
        "print(count)"
      ],
      "metadata": {
        "colab": {
          "base_uri": "https://localhost:8080/"
        },
        "id": "lnW2cKuur9dX",
        "outputId": "17817fd4-acc1-461a-b268-815628d156ac"
      },
      "execution_count": null,
      "outputs": [
        {
          "output_type": "stream",
          "name": "stdout",
          "text": [
            "uibdasuqei\n",
            "6\n"
          ]
        }
      ]
    },
    {
      "cell_type": "markdown",
      "source": [
        "# 6"
      ],
      "metadata": {
        "id": "NNayIrdWs0R5"
      }
    },
    {
      "cell_type": "code",
      "source": [
        "s = input()\n",
        "words_list = len(s.split())\n",
        "word_dict = {}\n",
        "for i in s.split():\n",
        "  word_dict[i] = s.count(i)\n",
        "print(word_dict)"
      ],
      "metadata": {
        "colab": {
          "base_uri": "https://localhost:8080/"
        },
        "id": "mtgtT-8QsvtC",
        "outputId": "c6854f81-b216-4417-ff45-3eb52e82ad3a"
      },
      "execution_count": null,
      "outputs": [
        {
          "output_type": "stream",
          "name": "stdout",
          "text": [
            "tôi là tôi nhưng nhưng không phải không tôi là người nè người luôn á\n",
            "{'tôi': 3, 'là': 2, 'nhưng': 2, 'không': 2, 'phải': 1, 'người': 2, 'nè': 1, 'luôn': 1, 'á': 1}\n"
          ]
        }
      ]
    },
    {
      "cell_type": "markdown",
      "source": [
        "# 7"
      ],
      "metadata": {
        "id": "4ZBfYMl4uA8c"
      }
    },
    {
      "cell_type": "code",
      "source": [
        "import random as r\n",
        "guess = r.randint(1,101)\n",
        "for i in range(5):\n",
        "  my_guess = int(input())\n",
        "  if my_guess == guess:\n",
        "    print('you win')\n",
        "    break\n",
        "  elif i == 4:\n",
        "    print(f'you lose ! correct is {guess}')\n",
        "  else:\n",
        "    print(f'remain {4-i}\\n')"
      ],
      "metadata": {
        "colab": {
          "base_uri": "https://localhost:8080/"
        },
        "id": "43N8WJGItyX9",
        "outputId": "981c069e-92b2-4f79-97f9-2d1b6d8e53d8"
      },
      "execution_count": null,
      "outputs": [
        {
          "output_type": "stream",
          "name": "stdout",
          "text": [
            "9\n",
            "remain 4\n",
            "\n",
            "12\n",
            "remain 3\n",
            "\n",
            "56\n",
            "you win\n"
          ]
        }
      ]
    }
  ]
}