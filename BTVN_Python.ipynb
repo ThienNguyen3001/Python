{
  "nbformat": 4,
  "nbformat_minor": 0,
  "metadata": {
    "colab": {
      "provenance": [],
      "authorship_tag": "ABX9TyMVpyZFzAlGSczPXw5m1WQI",
      "include_colab_link": true
    },
    "kernelspec": {
      "name": "python3",
      "display_name": "Python 3"
    },
    "language_info": {
      "name": "python"
    }
  },
  "cells": [
    {
      "cell_type": "markdown",
      "metadata": {
        "id": "view-in-github",
        "colab_type": "text"
      },
      "source": [
        "<a href=\"https://colab.research.google.com/github/ThienNguyen3001/Python/blob/main/BTVN_Python.ipynb\" target=\"_parent\"><img src=\"https://colab.research.google.com/assets/colab-badge.svg\" alt=\"Open In Colab\"/></a>"
      ]
    },
    {
      "cell_type": "markdown",
      "source": [
        "#1"
      ],
      "metadata": {
        "id": "XEqzgbX_xpcm"
      }
    },
    {
      "cell_type": "code",
      "execution_count": 49,
      "metadata": {
        "colab": {
          "base_uri": "https://localhost:8080/"
        },
        "id": "JQGB5ef-xlSk",
        "outputId": "c55b8a77-7816-4bfa-b0e0-6a307555832f"
      },
      "outputs": [
        {
          "output_type": "stream",
          "name": "stdout",
          "text": [
            "11\n"
          ]
        }
      ],
      "source": [
        "x = \"Hello world\"\n",
        "print(len(x))"
      ]
    },
    {
      "cell_type": "markdown",
      "source": [
        "#2"
      ],
      "metadata": {
        "id": "m9QJG7KDx06O"
      }
    },
    {
      "cell_type": "code",
      "source": [
        "x = 'google.com'\n",
        "from collections import Counter\n",
        "print(Counter(x))"
      ],
      "metadata": {
        "colab": {
          "base_uri": "https://localhost:8080/"
        },
        "id": "cVBZTp40x0J2",
        "outputId": "aac70efe-6ef1-4fa1-8e35-6fba60d353ca"
      },
      "execution_count": 50,
      "outputs": [
        {
          "output_type": "stream",
          "name": "stdout",
          "text": [
            "Counter({'o': 3, 'g': 2, 'l': 1, 'e': 1, '.': 1, 'c': 1, 'm': 1})\n"
          ]
        }
      ]
    },
    {
      "cell_type": "code",
      "source": [
        "ex1 = 'w3resource'\n",
        "ex2 = 'w3ce'\n",
        "ex3 = 'w3'\n",
        "ex4 = 'w3w3'\n",
        "ex5 = ' w'\n",
        "ex6 = ''\n",
        "def get_two(my_str):\n",
        "  if len(my_str) <= 2:\n",
        "    return \"\"\n",
        "  else:\n",
        "    return my_str[0:2] + my_str[-2:]\n",
        "print(get_two(ex1))\n",
        "print(get_two(ex2))\n",
        "print(get_two(ex3))\n",
        "print(get_two(ex4))\n",
        "print(get_two(ex5))\n",
        "print(get_two(ex6))"
      ],
      "metadata": {
        "colab": {
          "base_uri": "https://localhost:8080/"
        },
        "id": "w_Xp9le2zfNV",
        "outputId": "ad4bb3d9-c7ba-4718-f466-5518a46326cb"
      },
      "execution_count": 51,
      "outputs": [
        {
          "output_type": "stream",
          "name": "stdout",
          "text": [
            "w3ce\n",
            "w3ce\n",
            "\n",
            "w3w3\n",
            "\n",
            "\n"
          ]
        }
      ]
    },
    {
      "cell_type": "markdown",
      "source": [
        "#4"
      ],
      "metadata": {
        "id": "M3J4fID_7eMj"
      }
    },
    {
      "cell_type": "code",
      "source": [
        "x = 'restart'\n",
        "def change_char(my_str):\n",
        "  char = my_str[0]\n",
        "  my_str = my_str.replace(char, '$')\n",
        "  my_str = char + my_str[1:]\n",
        "  return my_str\n",
        "print(change_char(x))"
      ],
      "metadata": {
        "colab": {
          "base_uri": "https://localhost:8080/"
        },
        "id": "zakLvXzV0zED",
        "outputId": "e971848d-1f2d-4e9f-caf9-ae07f23888dd"
      },
      "execution_count": 52,
      "outputs": [
        {
          "output_type": "stream",
          "name": "stdout",
          "text": [
            "resta$t\n"
          ]
        }
      ]
    },
    {
      "cell_type": "markdown",
      "source": [
        "#5"
      ],
      "metadata": {
        "id": "FsRe7PRr7m4T"
      }
    },
    {
      "cell_type": "code",
      "source": [
        "x1 = 'abc'\n",
        "x2 = 'xyz'\n",
        "def swap_char(a, b):\n",
        "  new_a = b[:2] + a[2:]\n",
        "  new_b = a[:2] + b[2:]\n",
        "  return new_a + ' ' + new_b\n",
        "print(swap_char(x1, x2))"
      ],
      "metadata": {
        "colab": {
          "base_uri": "https://localhost:8080/"
        },
        "id": "8yaivmqu7gBE",
        "outputId": "61e61814-94f9-42d5-8dc7-3109c055d5cd"
      },
      "execution_count": 53,
      "outputs": [
        {
          "output_type": "stream",
          "name": "stdout",
          "text": [
            "xyc abz\n"
          ]
        }
      ]
    },
    {
      "cell_type": "markdown",
      "source": [
        "#6"
      ],
      "metadata": {
        "id": "E52UFgaB7_qC"
      }
    },
    {
      "cell_type": "code",
      "source": [
        "ex1 = 'abc'\n",
        "ex2 = 'string'\n",
        "def add_ing(my_str):\n",
        "  length = len(my_str)\n",
        "  if length > 2:\n",
        "    if my_str[-3:] == 'ing':\n",
        "      my_str += 'ly'\n",
        "    else:\n",
        "      my_str += 'ing'\n",
        "  return my_str\n",
        "print(add_ing(ex1))\n",
        "print(add_ing(ex2))"
      ],
      "metadata": {
        "id": "N6ySjA2U8A9q",
        "outputId": "3659d460-eb98-47c8-9862-3a4882142246",
        "colab": {
          "base_uri": "https://localhost:8080/"
        }
      },
      "execution_count": 54,
      "outputs": [
        {
          "output_type": "stream",
          "name": "stdout",
          "text": [
            "abcing\n",
            "stringly\n"
          ]
        }
      ]
    },
    {
      "cell_type": "markdown",
      "source": [
        "#7"
      ],
      "metadata": {
        "id": "ase8qLPOK0si"
      }
    },
    {
      "cell_type": "code",
      "source": [
        "ex1 = 'The lyrics is not that poor!'\n",
        "ex2 = 'The lyrics is poor!'\n",
        "def not_poor(my_str):\n",
        "  snot = my_str.find('not')\n",
        "  spoor = my_str.find('poor')\n",
        "  if spoor > snot and snot>0 and spoor>0:\n",
        "    my_str = my_str.replace(my_str[snot:(spoor+4)], 'good')\n",
        "  return my_str\n",
        "print(not_poor(ex1))\n",
        "print(not_poor(ex2))"
      ],
      "metadata": {
        "id": "YAVaGPbaK1R7",
        "outputId": "064d772e-9f2a-4c4d-fc87-47f231777cca",
        "colab": {
          "base_uri": "https://localhost:8080/"
        }
      },
      "execution_count": 55,
      "outputs": [
        {
          "output_type": "stream",
          "name": "stdout",
          "text": [
            "The lyrics is good!\n",
            "The lyrics is poor!\n"
          ]
        }
      ]
    },
    {
      "cell_type": "markdown",
      "source": [
        "#9"
      ],
      "metadata": {
        "id": "-jPKwp8iLQxI"
      }
    },
    {
      "cell_type": "code",
      "source": [
        "x = \"Python\"\n",
        "def remove_char(my_str, i):\n",
        "  first_part = my_str[:i]\n",
        "  last_part = my_str[i+1:]\n",
        "  return first_part + last_part\n",
        "print(remove_char(x, 3))"
      ],
      "metadata": {
        "id": "26BX3r8XLR6U",
        "outputId": "cc9e3fd2-9a6b-42be-e59e-7ee3440c5a4d",
        "colab": {
          "base_uri": "https://localhost:8080/"
        }
      },
      "execution_count": 56,
      "outputs": [
        {
          "output_type": "stream",
          "name": "stdout",
          "text": [
            "Pyton\n"
          ]
        }
      ]
    },
    {
      "cell_type": "markdown",
      "source": [
        "#10"
      ],
      "metadata": {
        "id": "udPQ8tAVLy34"
      }
    },
    {
      "cell_type": "code",
      "source": [
        "x = \"Python\"\n",
        "def swap_char(my_str):\n",
        "  return my_str[-1:] + my_str[1:-1] + my_str[:1]\n",
        "print(swap_char(x))"
      ],
      "metadata": {
        "id": "7D23GPoMLzip",
        "outputId": "e18c6cc0-4361-4ecd-fad7-9ac0a2cbec25",
        "colab": {
          "base_uri": "https://localhost:8080/"
        }
      },
      "execution_count": 57,
      "outputs": [
        {
          "output_type": "stream",
          "name": "stdout",
          "text": [
            "nythoP\n"
          ]
        }
      ]
    },
    {
      "cell_type": "markdown",
      "source": [
        "#11"
      ],
      "metadata": {
        "id": "gCRbzFyrMAWP"
      }
    },
    {
      "cell_type": "code",
      "source": [
        "x = \"Python\"\n",
        "def remove_odd_char(my_str):\n",
        "  result = \"\"\n",
        "  for i in range(len(my_str)):\n",
        "    if i % 2 == 0:\n",
        "      result = result + my_str[i]\n",
        "  return result\n",
        "print(remove_odd_char(x))"
      ],
      "metadata": {
        "id": "UQNoc74_L_xM",
        "outputId": "9c8fd9e3-d6f8-41d9-c3b7-86984a6924f9",
        "colab": {
          "base_uri": "https://localhost:8080/"
        }
      },
      "execution_count": 58,
      "outputs": [
        {
          "output_type": "stream",
          "name": "stdout",
          "text": [
            "Pto\n"
          ]
        }
      ]
    },
    {
      "cell_type": "markdown",
      "source": [
        "#12"
      ],
      "metadata": {
        "id": "yfA1FnoQMgh4"
      }
    },
    {
      "cell_type": "code",
      "source": [
        "x = \"Hello World Hello\"\n",
        "def word_count(my_str):\n",
        "  counts = dict()\n",
        "  words = my_str.split()\n",
        "  for word in words:\n",
        "    if word in counts:\n",
        "      counts[word] += 1\n",
        "    else:\n",
        "      counts[word] = 1\n",
        "  return counts\n",
        "print(word_count(x))"
      ],
      "metadata": {
        "id": "eCnFJAQMMcBU",
        "outputId": "2640e409-84de-4733-9319-5c3cf5e23970",
        "colab": {
          "base_uri": "https://localhost:8080/"
        }
      },
      "execution_count": 59,
      "outputs": [
        {
          "output_type": "stream",
          "name": "stdout",
          "text": [
            "{'Hello': 2, 'World': 1}\n"
          ]
        }
      ]
    },
    {
      "cell_type": "markdown",
      "source": [
        "#13"
      ],
      "metadata": {
        "id": "ijK78EntNI1X"
      }
    },
    {
      "cell_type": "code",
      "source": [
        "name = input(\"Enter your name: \")\n",
        "print(\"Upper case:\",name.upper())\n",
        "print(\"Lower case:\",name.lower())"
      ],
      "metadata": {
        "id": "qapVwJrHNJY9",
        "outputId": "25e00da0-ae02-49a5-c173-868c59dc2b75",
        "colab": {
          "base_uri": "https://localhost:8080/"
        }
      },
      "execution_count": 60,
      "outputs": [
        {
          "output_type": "stream",
          "name": "stdout",
          "text": [
            "Enter your name: Thien\n",
            "Upper case: THIEN\n",
            "Lower case: thien\n"
          ]
        }
      ]
    },
    {
      "cell_type": "markdown",
      "source": [
        "#14"
      ],
      "metadata": {
        "id": "uQql1shTNXQ2"
      }
    },
    {
      "cell_type": "code",
      "source": [
        "ex = 'red, white, black, red, green, black'\n",
        "def word_sort(my_str):\n",
        "  counts = dict()\n",
        "  words = my_str.split(',')\n",
        "  for word in words:\n",
        "    if word in counts:\n",
        "      counts[word] += 1\n",
        "    else:\n",
        "      counts[word] = 1\n",
        "    counts = dict(sorted(counts.items()))\n",
        "  return counts\n",
        "for i in word_sort(ex):\n",
        "  print(i,end=',')"
      ],
      "metadata": {
        "id": "CMlqsBY9NX4M",
        "outputId": "73b7feaa-9425-4f7f-9d29-81f66636ca51",
        "colab": {
          "base_uri": "https://localhost:8080/"
        }
      },
      "execution_count": 61,
      "outputs": [
        {
          "output_type": "stream",
          "name": "stdout",
          "text": [
            " black, green, red, white,red,"
          ]
        }
      ]
    },
    {
      "cell_type": "markdown",
      "source": [
        "#15"
      ],
      "metadata": {
        "id": "TMY_ihj1OmnU"
      }
    },
    {
      "cell_type": "code",
      "source": [
        "def add_tag(tag, word):\n",
        "  return \"<%s>%s</%s>\" % (tag, word, tag)\n",
        "print(add_tag('i', 'Python'))\n",
        "print(add_tag('b', 'Python Tutorial'))"
      ],
      "metadata": {
        "id": "iO15QaCAOnJr",
        "outputId": "ce5b174e-50c5-4f64-ba48-d2716de00ce7",
        "colab": {
          "base_uri": "https://localhost:8080/"
        }
      },
      "execution_count": 62,
      "outputs": [
        {
          "output_type": "stream",
          "name": "stdout",
          "text": [
            "<i>Python</i>\n",
            "<b>Python Tutorial</b>\n"
          ]
        }
      ]
    },
    {
      "cell_type": "markdown",
      "source": [
        "#16"
      ],
      "metadata": {
        "id": "4_yD4qhJPGV-"
      }
    },
    {
      "cell_type": "code",
      "source": [
        "def insert_sting_middle(str1,str2):\n",
        "  return str1[:2] + str2 + str1[2:]\n",
        "print(insert_sting_middle('[[]]', 'Python'))\n",
        "print(insert_sting_middle('{{}}', 'PHP'))"
      ],
      "metadata": {
        "id": "EAYgOBHCPHNJ",
        "outputId": "2789e6f9-b45f-4700-d8ba-10a66814b014",
        "colab": {
          "base_uri": "https://localhost:8080/"
        }
      },
      "execution_count": 63,
      "outputs": [
        {
          "output_type": "stream",
          "name": "stdout",
          "text": [
            "[[Python]]\n",
            "{{PHP}}\n"
          ]
        }
      ]
    },
    {
      "cell_type": "markdown",
      "source": [
        "#17"
      ],
      "metadata": {
        "id": "nxU9ODKgPdL-"
      }
    },
    {
      "cell_type": "code",
      "source": [
        "def insert_end(my_str):\n",
        "  if len(my_str) < 2:\n",
        "    return\n",
        "  copy = my_str[-2:]\n",
        "  return copy*4\n",
        "print(insert_end('Python'))\n",
        "print(insert_end('Exercises'))"
      ],
      "metadata": {
        "id": "IRNbIhDlPeDe",
        "outputId": "3fb02fd9-a0d7-4550-80ed-a5fb8550b13c",
        "colab": {
          "base_uri": "https://localhost:8080/"
        }
      },
      "execution_count": 64,
      "outputs": [
        {
          "output_type": "stream",
          "name": "stdout",
          "text": [
            "onononon\n",
            "eseseses\n"
          ]
        }
      ]
    },
    {
      "cell_type": "markdown",
      "source": [
        "#18"
      ],
      "metadata": {
        "id": "-KcDEFMaP8dE"
      }
    },
    {
      "cell_type": "code",
      "source": [
        "def first_three(my_str):\n",
        "  if len(my_str) < 3:\n",
        "    return my_str\n",
        "  return my_str[:3]\n",
        "print(first_three('ipy'))\n",
        "print(first_three('python'))"
      ],
      "metadata": {
        "id": "jgzEMU_sP8_V",
        "outputId": "a8747b98-3255-4b01-a546-31cb3c94ac42",
        "colab": {
          "base_uri": "https://localhost:8080/"
        }
      },
      "execution_count": 65,
      "outputs": [
        {
          "output_type": "stream",
          "name": "stdout",
          "text": [
            "ipy\n",
            "pyt\n"
          ]
        }
      ]
    },
    {
      "cell_type": "markdown",
      "source": [
        "#19"
      ],
      "metadata": {
        "id": "AFbZSv3tQgrl"
      }
    },
    {
      "cell_type": "code",
      "source": [
        "x = 'www.w3resource.com/python-exercises'\n",
        "def get_last_part(my_str, sep):\n",
        "  return my_str.rsplit(sep, 1)[0]\n",
        "print(get_last_part(x, '/'))"
      ],
      "metadata": {
        "id": "gqWlYXv2QhRl",
        "outputId": "1a654abe-7c97-4c87-ed8b-be427dc15278",
        "colab": {
          "base_uri": "https://localhost:8080/"
        }
      },
      "execution_count": 66,
      "outputs": [
        {
          "output_type": "stream",
          "name": "stdout",
          "text": [
            "www.w3resource.com\n"
          ]
        }
      ]
    },
    {
      "cell_type": "markdown",
      "source": [
        "#20"
      ],
      "metadata": {
        "id": "4wiM1Bv3R-Qg"
      }
    },
    {
      "cell_type": "code",
      "source": [
        "x = 'abcd'\n",
        "def reverse(my_str):\n",
        "  if len(my_str) % 4 == 0:\n",
        "    return my_str[::-1]\n",
        "  return my_str\n",
        "print(reverse(x))"
      ],
      "metadata": {
        "id": "jAfLmBYFRqz1",
        "outputId": "b6130b1e-3967-4690-f0bf-dad2d2b26efb",
        "colab": {
          "base_uri": "https://localhost:8080/"
        }
      },
      "execution_count": 67,
      "outputs": [
        {
          "output_type": "stream",
          "name": "stdout",
          "text": [
            "dcba\n"
          ]
        }
      ]
    },
    {
      "cell_type": "markdown",
      "source": [
        "#21"
      ],
      "metadata": {
        "id": "fblWiI2yS155"
      }
    },
    {
      "cell_type": "code",
      "source": [
        "x = 'PyThon'\n",
        "def convert(my_str):\n",
        "  count = 0\n",
        "  for i in range(0,5):\n",
        "    if ('A'< my_str[i] <'Z'):\n",
        "      count+=1\n",
        "  if (count >= 2):\n",
        "    return my_str.upper()\n",
        "  return my_str\n",
        "print(convert(x))"
      ],
      "metadata": {
        "id": "wGGmcsQuS2cl",
        "outputId": "22f0fc0f-bf6c-4509-c2c0-6d65cff3957e",
        "colab": {
          "base_uri": "https://localhost:8080/"
        }
      },
      "execution_count": 68,
      "outputs": [
        {
          "output_type": "stream",
          "name": "stdout",
          "text": [
            "PYTHON\n"
          ]
        }
      ]
    },
    {
      "cell_type": "markdown",
      "source": [
        "#22"
      ],
      "metadata": {
        "id": "_Nqd4dBeV0a-"
      }
    },
    {
      "cell_type": "code",
      "source": [
        "ex = 'red white black green'\n",
        "\n",
        "def word_sort(my_str):\n",
        "  words = my_str.split()\n",
        "  return sorted(words)\n",
        "\n",
        "for word in word_sort(ex):\n",
        "  print(word, end=' ')"
      ],
      "metadata": {
        "id": "HSKcB_L7V1MP",
        "outputId": "eb550873-3f67-4c09-9e7d-4513c870b3fb",
        "colab": {
          "base_uri": "https://localhost:8080/"
        }
      },
      "execution_count": 69,
      "outputs": [
        {
          "output_type": "stream",
          "name": "stdout",
          "text": [
            "black green red white "
          ]
        }
      ]
    },
    {
      "cell_type": "markdown",
      "source": [
        "#23"
      ],
      "metadata": {
        "id": "h0wW24u7XMR0"
      }
    },
    {
      "cell_type": "code",
      "source": [
        "ex = 'Python\\n1\\n2\\n3'\n",
        "def remove_new_line(my_str):\n",
        "  return my_str.replace('\\n', '')\n",
        "print(remove_new_line(ex))"
      ],
      "metadata": {
        "id": "AtiEfh95XMxx",
        "outputId": "4adf68ec-be54-4b15-83c2-08054216d3e8",
        "colab": {
          "base_uri": "https://localhost:8080/"
        }
      },
      "execution_count": 70,
      "outputs": [
        {
          "output_type": "stream",
          "name": "stdout",
          "text": [
            "Python123\n"
          ]
        }
      ]
    },
    {
      "cell_type": "markdown",
      "source": [
        "#24"
      ],
      "metadata": {
        "id": "X6p0U15Sxu53"
      }
    },
    {
      "cell_type": "code",
      "source": [
        "ex = 'Python'\n",
        "def find_char(my_str, char):\n",
        "  return my_str[0] == char\n",
        "print(find_char(ex, 'P'))\n",
        "print(find_char(ex, 'p'))"
      ],
      "metadata": {
        "id": "-KDntzTTyUUQ",
        "outputId": "58c13df0-dab7-4fe9-ca8f-8e438380f554",
        "colab": {
          "base_uri": "https://localhost:8080/"
        }
      },
      "execution_count": 71,
      "outputs": [
        {
          "output_type": "stream",
          "name": "stdout",
          "text": [
            "True\n",
            "False\n"
          ]
        }
      ]
    },
    {
      "cell_type": "markdown",
      "source": [
        "#27"
      ],
      "metadata": {
        "id": "6bEW5VBKzKBI"
      }
    },
    {
      "cell_type": "code",
      "source": [
        "ex = '''Việt Nam, quốc hiệu là Cộng hòa xã hội chủ nghĩa Việt Nam,[11] là một quốc gia nằm ở cực Đông của bán đảo Đông Dương thuộc khu vực Đông Nam Á, giáp với Lào, Campuchia, Trung Quốc, biển Đông và vịnh Thái Lan.\n",
        "      Lãnh thổ Việt Nam xuất hiện con người sinh sống từ thời đại đồ đá cũ, khởi đầu với các nhà nước Văn Lang, Âu Lạc. Âu Lạc bị nhà Triệu ở phương Bắc thôn tính vào đầu thế kỷ thứ 2 TCN sau đó là thời kỳ Bắc thuộc kéo dài hơn một thiên niên kỷ. Chế độ quân chủ độc lập được tái lập sau chiến thắng của Ngô Quyền trước nhà Nam Hán, mở đường cho các triều đại độc lập kế tục, nhiều lần chiến thắng trước các cuộc chiến tranh xâm lược từ phương Bắc đồng thời dần mở rộng về phía nam. Thời kỳ Bắc thuộc cuối cùng kết thúc sau chiến thắng trước nhà Minh của nghĩa quân Lam Sơn.\n",
        "'''\n",
        "def remove_indentation(text):\n",
        "    lines = text.splitlines()\n",
        "    result = \"\\n\".join([line.lstrip() for line in lines])\n",
        "    return result\n",
        "print(remove_indentation(ex))\n",
        ""
      ],
      "metadata": {
        "id": "gzVWN7JVzopx",
        "outputId": "84c87b8a-e532-48b1-9e23-2b68a27530b3",
        "colab": {
          "base_uri": "https://localhost:8080/"
        }
      },
      "execution_count": 72,
      "outputs": [
        {
          "output_type": "stream",
          "name": "stdout",
          "text": [
            "Việt Nam, quốc hiệu là Cộng hòa xã hội chủ nghĩa Việt Nam,[11] là một quốc gia nằm ở cực Đông của bán đảo Đông Dương thuộc khu vực Đông Nam Á, giáp với Lào, Campuchia, Trung Quốc, biển Đông và vịnh Thái Lan.\n",
            "Lãnh thổ Việt Nam xuất hiện con người sinh sống từ thời đại đồ đá cũ, khởi đầu với các nhà nước Văn Lang, Âu Lạc. Âu Lạc bị nhà Triệu ở phương Bắc thôn tính vào đầu thế kỷ thứ 2 TCN sau đó là thời kỳ Bắc thuộc kéo dài hơn một thiên niên kỷ. Chế độ quân chủ độc lập được tái lập sau chiến thắng của Ngô Quyền trước nhà Nam Hán, mở đường cho các triều đại độc lập kế tục, nhiều lần chiến thắng trước các cuộc chiến tranh xâm lược từ phương Bắc đồng thời dần mở rộng về phía nam. Thời kỳ Bắc thuộc cuối cùng kết thúc sau chiến thắng trước nhà Minh của nghĩa quân Lam Sơn.\n"
          ]
        }
      ]
    },
    {
      "cell_type": "markdown",
      "source": [
        "#28"
      ],
      "metadata": {
        "id": "fJ34NnmuWBEu"
      }
    },
    {
      "cell_type": "code",
      "source": [
        "def add_prefix_to_lines(text, prefix):\n",
        "    lines = text.splitlines()\n",
        "    result = \"\\n\".join([prefix + line for line in lines])\n",
        "    return result\n",
        "\n",
        "prefix = \"- \"\n",
        "print(add_prefix_to_lines(ex, prefix))\n"
      ],
      "metadata": {
        "id": "V1Y8tt5TV-io",
        "outputId": "90120e41-5d03-401d-b7e4-a80b3b45f947",
        "colab": {
          "base_uri": "https://localhost:8080/"
        }
      },
      "execution_count": 73,
      "outputs": [
        {
          "output_type": "stream",
          "name": "stdout",
          "text": [
            "- Việt Nam, quốc hiệu là Cộng hòa xã hội chủ nghĩa Việt Nam,[11] là một quốc gia nằm ở cực Đông của bán đảo Đông Dương thuộc khu vực Đông Nam Á, giáp với Lào, Campuchia, Trung Quốc, biển Đông và vịnh Thái Lan.\n",
            "-       Lãnh thổ Việt Nam xuất hiện con người sinh sống từ thời đại đồ đá cũ, khởi đầu với các nhà nước Văn Lang, Âu Lạc. Âu Lạc bị nhà Triệu ở phương Bắc thôn tính vào đầu thế kỷ thứ 2 TCN sau đó là thời kỳ Bắc thuộc kéo dài hơn một thiên niên kỷ. Chế độ quân chủ độc lập được tái lập sau chiến thắng của Ngô Quyền trước nhà Nam Hán, mở đường cho các triều đại độc lập kế tục, nhiều lần chiến thắng trước các cuộc chiến tranh xâm lược từ phương Bắc đồng thời dần mở rộng về phía nam. Thời kỳ Bắc thuộc cuối cùng kết thúc sau chiến thắng trước nhà Minh của nghĩa quân Lam Sơn.\n"
          ]
        }
      ]
    },
    {
      "cell_type": "markdown",
      "source": [
        "#29"
      ],
      "metadata": {
        "id": "QEfIHfeKWiwe"
      }
    },
    {
      "cell_type": "code",
      "source": [
        "def indent_first_line(text):\n",
        "    lines = text.splitlines()\n",
        "    lines[0] = \"\\t\" + lines[0]\n",
        "    return \"\\n\".join(lines)\n",
        "print(indent_first_line(ex))\n"
      ],
      "metadata": {
        "id": "dpmyG0HeWjg2",
        "outputId": "0798b679-976d-45fa-b986-dfeb622987ae",
        "colab": {
          "base_uri": "https://localhost:8080/"
        }
      },
      "execution_count": 74,
      "outputs": [
        {
          "output_type": "stream",
          "name": "stdout",
          "text": [
            "\tViệt Nam, quốc hiệu là Cộng hòa xã hội chủ nghĩa Việt Nam,[11] là một quốc gia nằm ở cực Đông của bán đảo Đông Dương thuộc khu vực Đông Nam Á, giáp với Lào, Campuchia, Trung Quốc, biển Đông và vịnh Thái Lan.\n",
            "      Lãnh thổ Việt Nam xuất hiện con người sinh sống từ thời đại đồ đá cũ, khởi đầu với các nhà nước Văn Lang, Âu Lạc. Âu Lạc bị nhà Triệu ở phương Bắc thôn tính vào đầu thế kỷ thứ 2 TCN sau đó là thời kỳ Bắc thuộc kéo dài hơn một thiên niên kỷ. Chế độ quân chủ độc lập được tái lập sau chiến thắng của Ngô Quyền trước nhà Nam Hán, mở đường cho các triều đại độc lập kế tục, nhiều lần chiến thắng trước các cuộc chiến tranh xâm lược từ phương Bắc đồng thời dần mở rộng về phía nam. Thời kỳ Bắc thuộc cuối cùng kết thúc sau chiến thắng trước nhà Minh của nghĩa quân Lam Sơn.\n"
          ]
        }
      ]
    },
    {
      "cell_type": "markdown",
      "source": [
        "#30"
      ],
      "metadata": {
        "id": "tbTXykJgXmP_"
      }
    },
    {
      "cell_type": "code",
      "source": [
        "ex = 12.32123\n",
        "def round_to_two_decimals(number):\n",
        "    return \"%.2f\" % number\n",
        "print(round_to_two_decimals(ex))"
      ],
      "metadata": {
        "id": "fQ7EV7nWXm89",
        "outputId": "5f86f9dc-a3ca-4e1c-9fd9-088323e7177d",
        "colab": {
          "base_uri": "https://localhost:8080/"
        }
      },
      "execution_count": 75,
      "outputs": [
        {
          "output_type": "stream",
          "name": "stdout",
          "text": [
            "12.32\n"
          ]
        }
      ]
    },
    {
      "cell_type": "markdown",
      "source": [
        "#31"
      ],
      "metadata": {
        "id": "tyVaikDNX61d"
      }
    },
    {
      "cell_type": "code",
      "source": [
        "ex = 12.0012\n",
        "def round_to_two_decimals(number):\n",
        "    return \"%.2f\" % number\n",
        "print(round_to_two_decimals(ex))"
      ],
      "metadata": {
        "id": "wJQSSmzXXxtC",
        "outputId": "be940875-7f7d-4f79-a65a-b81ecd8b9ca5",
        "colab": {
          "base_uri": "https://localhost:8080/"
        }
      },
      "execution_count": 76,
      "outputs": [
        {
          "output_type": "stream",
          "name": "stdout",
          "text": [
            "12.00\n"
          ]
        }
      ]
    },
    {
      "cell_type": "markdown",
      "source": [
        "#35"
      ],
      "metadata": {
        "id": "TlXzlkJ4Yc3r"
      }
    },
    {
      "cell_type": "code",
      "source": [
        "ex = 1234\n",
        "def separate(number):\n",
        "    n = str(number)\n",
        "    for i in range(len(n)-3, 0, -3):\n",
        "        n = n[:i] + ',' + n[i:]\n",
        "    return n\n",
        "print(separate(ex))"
      ],
      "metadata": {
        "id": "-65hNs3FYdcc",
        "outputId": "c78a0295-0fbc-4b32-bffd-6fd2cd672395",
        "colab": {
          "base_uri": "https://localhost:8080/"
        }
      },
      "execution_count": 77,
      "outputs": [
        {
          "output_type": "stream",
          "name": "stdout",
          "text": [
            "1,234\n"
          ]
        }
      ]
    },
    {
      "cell_type": "markdown",
      "source": [
        "#36"
      ],
      "metadata": {
        "id": "eZROznJTZmJl"
      }
    },
    {
      "cell_type": "code",
      "source": [
        "ex = 12/100\n",
        "def percentage_format(ex):\n",
        "  return str(ex*100)+\"%\"\n",
        "print(percentage_format(ex))"
      ],
      "metadata": {
        "id": "A6eSOiDWZlvP",
        "outputId": "04f118b7-cae5-4ec4-9e1d-2fef16ab36b0",
        "colab": {
          "base_uri": "https://localhost:8080/"
        }
      },
      "execution_count": 78,
      "outputs": [
        {
          "output_type": "stream",
          "name": "stdout",
          "text": [
            "12.0%\n"
          ]
        }
      ]
    },
    {
      "cell_type": "markdown",
      "source": [
        "#37"
      ],
      "metadata": {
        "id": "8_vHJkR5aW11"
      }
    },
    {
      "cell_type": "code",
      "source": [
        "number = 12345\n",
        "\n",
        "print(f\"{number:<10}\")\n",
        "print(f\"{number:>10}\")\n",
        "print(f\"{number:^10}\")"
      ],
      "metadata": {
        "id": "kEwt69pKaXxf",
        "outputId": "3f103164-1821-4519-b5dc-26b18b308e67",
        "colab": {
          "base_uri": "https://localhost:8080/"
        }
      },
      "execution_count": 79,
      "outputs": [
        {
          "output_type": "stream",
          "name": "stdout",
          "text": [
            "12345     \n",
            "     12345\n",
            "  12345   \n"
          ]
        }
      ]
    },
    {
      "cell_type": "markdown",
      "source": [
        "#38"
      ],
      "metadata": {
        "id": "0YMCOPo_aig7"
      }
    },
    {
      "cell_type": "code",
      "source": [
        "def count_substring(string, substring):\n",
        "  return string.count(substring)\n",
        "\n",
        "# Example usage\n",
        "ex = '''Việt Nam, quốc hiệu là Cộng hòa xã hội chủ nghĩa Việt Nam,[11] là một quốc gia nằm ở cực Đông của bán đảo Đông Dương thuộc khu vực Đông Nam Á, giáp với Lào, Campuchia, Trung Quốc, biển Đông và vịnh Thái Lan.\n",
        "      Lãnh thổ Việt Nam xuất hiện con người sinh sống từ thời đại đồ đá cũ, khởi đầu với các nhà nước Văn Lang, Âu Lạc. Âu Lạc bị nhà Triệu ở phương Bắc thôn tính vào đầu thế kỷ thứ 2 TCN sau đó là thời kỳ Bắc thuộc kéo dài hơn một thiên niên kỷ. Chế độ quân chủ độc lập được tái lập sau chiến thắng của Ngô Quyền trước nhà Nam Hán, mở đường cho các triều đại độc lập kế tục, nhiều lần chiến thắng trước các cuộc chiến tranh xâm lược từ phương Bắc đồng thời dần mở rộng về phía nam. Thời kỳ Bắc thuộc cuối cùng kết thúc sau chiến thắng trước nhà Minh của nghĩa quân Lam Sơn.\n",
        "'''\n",
        "substring = \"Việt\"\n",
        "count = count_substring(ex, substring)\n",
        "print(f\"Từ '{substring}' xuất hiện {count} lần\")\n",
        "\n",
        "# To see the output, run the code."
      ],
      "metadata": {
        "id": "Rlk4_wBiajHM",
        "outputId": "b7fe6f86-6257-4ea4-8e4c-7e2ce49d826a",
        "colab": {
          "base_uri": "https://localhost:8080/"
        }
      },
      "execution_count": 80,
      "outputs": [
        {
          "output_type": "stream",
          "name": "stdout",
          "text": [
            "Từ 'Việt' xuất hiện 3 lần\n"
          ]
        }
      ]
    },
    {
      "cell_type": "markdown",
      "source": [
        "#39"
      ],
      "metadata": {
        "id": "sY9RMKLha-Si"
      }
    },
    {
      "cell_type": "code",
      "source": [
        "ex = 'Python ne'\n",
        "def reverse(my_str):\n",
        "  return my_str[::-1]\n",
        "print(reverse(ex))"
      ],
      "metadata": {
        "id": "TEmGbwUja_F3",
        "outputId": "04b54671-8f15-48ec-a043-0823569058ef",
        "colab": {
          "base_uri": "https://localhost:8080/"
        }
      },
      "execution_count": 83,
      "outputs": [
        {
          "output_type": "stream",
          "name": "stdout",
          "text": [
            "en nohtyP\n"
          ]
        }
      ]
    },
    {
      "cell_type": "markdown",
      "source": [
        "#40"
      ],
      "metadata": {
        "id": "Cwm5jQypbY_r"
      }
    },
    {
      "cell_type": "code",
      "source": [
        "ex = 'Python ne'\n",
        "def reverse(my_str, word):\n",
        "  if word in my_str:\n",
        "    return my_str.replace(word, word[::-1])\n",
        "print(reverse(ex, 'ne'))"
      ],
      "metadata": {
        "id": "3cGf9woXbZmW",
        "outputId": "8f8bbddb-d18c-430b-a419-09717599c61a",
        "colab": {
          "base_uri": "https://localhost:8080/"
        }
      },
      "execution_count": 86,
      "outputs": [
        {
          "output_type": "stream",
          "name": "stdout",
          "text": [
            "Python en\n"
          ]
        }
      ]
    },
    {
      "cell_type": "markdown",
      "source": [
        "#41"
      ],
      "metadata": {
        "id": "OMzP7lSFcHHt"
      }
    },
    {
      "cell_type": "code",
      "source": [
        "def strip_chars(str, chars):\n",
        "  return \"\".join([c for c in str if c not in chars])\n",
        "\n",
        "string = \"Hello, world!\"\n",
        "chars_to_strip = \",!\"\n",
        "stripped_string = strip_chars(string, chars_to_strip)\n",
        "print(stripped_string)"
      ],
      "metadata": {
        "id": "Vhde0QzwcIyN",
        "outputId": "d85441db-628e-428f-81bd-ba0174ff99b2",
        "colab": {
          "base_uri": "https://localhost:8080/"
        }
      },
      "execution_count": 87,
      "outputs": [
        {
          "output_type": "stream",
          "name": "stdout",
          "text": [
            "Hello world\n"
          ]
        }
      ]
    },
    {
      "cell_type": "markdown",
      "source": [
        "#42"
      ],
      "metadata": {
        "id": "RxAAjq73d9K_"
      }
    },
    {
      "cell_type": "code",
      "source": [
        "ex = 'thequickbrownfoxjumpsoverthelazydog'\n",
        "\n",
        "def count_char(my_str):\n",
        "  counts = dict()\n",
        "  for char in my_str:\n",
        "    if char in counts:\n",
        "      counts[char] += 1\n",
        "    else:\n",
        "      counts[char] = 1\n",
        "  return [char +\" \"+ str(frequency) for char, frequency in counts.items() if frequency > 1]\n",
        "\n",
        "print(count_char(ex))"
      ],
      "metadata": {
        "id": "uP3A9Mgld-Ma",
        "outputId": "72e75817-3394-4c01-e054-72492c0e8b2e",
        "colab": {
          "base_uri": "https://localhost:8080/"
        }
      },
      "execution_count": 101,
      "outputs": [
        {
          "output_type": "stream",
          "name": "stdout",
          "text": [
            "['t 2', 'h 2', 'e 3', 'u 2', 'r 2', 'o 4']\n"
          ]
        }
      ]
    },
    {
      "cell_type": "markdown",
      "source": [
        "#43"
      ],
      "metadata": {
        "id": "ijOESNQ_gJt-"
      }
    },
    {
      "cell_type": "code",
      "source": [
        "def calculate_rectangle_area(length, width):\n",
        "    area = length * width\n",
        "    return area\n",
        "\n",
        "def calculate_cylinder_volume(radius, height):\n",
        "    volume = 3.14 * radius**2 * height\n",
        "    return volume\n",
        "\n",
        "length = 10\n",
        "width = 8\n",
        "\n",
        "radius = 1\n",
        "height = 2\n",
        "\n",
        "rectangle_area = calculate_rectangle_area(length, width)\n",
        "cylinder_volume = calculate_cylinder_volume(radius, height)\n",
        "\n",
        "print(f\"The area of the rectangle is {rectangle_area:.2f}cm\\u00B2\")\n",
        "print(f\"The volume of the cylinder is {cylinder_volume:.3f}cm\\u00B3\")"
      ],
      "metadata": {
        "id": "DY3Y9pysgKWz",
        "outputId": "397f12f1-bd23-44d6-ef4d-98eb339934db",
        "colab": {
          "base_uri": "https://localhost:8080/"
        }
      },
      "execution_count": 104,
      "outputs": [
        {
          "output_type": "stream",
          "name": "stdout",
          "text": [
            "The area of the rectangle is 80.00cm²\n",
            "The volume of the cylinder is 6.280cm³\n"
          ]
        }
      ]
    },
    {
      "cell_type": "markdown",
      "source": [
        "#44"
      ],
      "metadata": {
        "id": "SZt6yRLthGTQ"
      }
    },
    {
      "cell_type": "code",
      "source": [
        "ex = 'w3resource'\n",
        "for i in range(0,len(ex)):\n",
        "  print(f'Current character {ex[i]} position at {i}')"
      ],
      "metadata": {
        "id": "4k_HTzONhHZX",
        "outputId": "3e5fa86a-5726-4674-e5d8-6776bff410f1",
        "colab": {
          "base_uri": "https://localhost:8080/"
        }
      },
      "execution_count": 105,
      "outputs": [
        {
          "output_type": "stream",
          "name": "stdout",
          "text": [
            "Current character w position at 0\n",
            "Current character 3 position at 1\n",
            "Current character r position at 2\n",
            "Current character e position at 3\n",
            "Current character s position at 4\n",
            "Current character o position at 5\n",
            "Current character u position at 6\n",
            "Current character r position at 7\n",
            "Current character c position at 8\n",
            "Current character e position at 9\n"
          ]
        }
      ]
    },
    {
      "cell_type": "markdown",
      "source": [
        "#45"
      ],
      "metadata": {
        "id": "AhmucQVSrULo"
      }
    },
    {
      "cell_type": "code",
      "source": [
        "import string\n",
        "\n",
        "def is_pangram(text):\n",
        "  text = text.lower()\n",
        "  alphabet = set(string.ascii_lowercase)\n",
        "  return set(text) >= alphabet\n",
        "ex = 'The quick brown fox jumps over the lazy dog.'\n",
        "if is_pangram(ex):\n",
        "  print(\"Chứa hết\")\n",
        "else:\n",
        "  print(\"Ko chứa hết\")"
      ],
      "metadata": {
        "id": "acAnOtOGrVAj",
        "outputId": "4fabb9d7-d9b2-43aa-932f-b56e63bad258",
        "colab": {
          "base_uri": "https://localhost:8080/"
        }
      },
      "execution_count": 108,
      "outputs": [
        {
          "output_type": "stream",
          "name": "stdout",
          "text": [
            "Chứa hết\n"
          ]
        }
      ]
    },
    {
      "cell_type": "markdown",
      "source": [
        "#46"
      ],
      "metadata": {
        "id": "_bFQcd_gtwM1"
      }
    },
    {
      "cell_type": "code",
      "source": [
        "ex = 'The quick brown fox jumps over the lazy dog.'\n",
        "lst = ex.split(' ')\n",
        "print(lst)"
      ],
      "metadata": {
        "id": "gHULYGVGsmvr",
        "outputId": "f892e6a2-4383-45b3-9cc2-34278e792ab9",
        "colab": {
          "base_uri": "https://localhost:8080/"
        }
      },
      "execution_count": 112,
      "outputs": [
        {
          "output_type": "stream",
          "name": "stdout",
          "text": [
            "['The', 'quick', 'brown', 'fox', 'jumps', 'over', 'the', 'lazy', 'dog.']\n"
          ]
        }
      ]
    },
    {
      "cell_type": "markdown",
      "source": [
        "#47"
      ],
      "metadata": {
        "id": "Lgt6jtx5t-P8"
      }
    },
    {
      "cell_type": "code",
      "source": [
        "ex = 'PYThoN'\n",
        "n = 3\n",
        "def lower_n(my_str, n):\n",
        "  return my_str[:n].lower() + my_str[n:]\n",
        "print(lower_n(ex, n))"
      ],
      "metadata": {
        "id": "dsqURoWitxN_",
        "outputId": "fd11df52-f7e5-4e3f-fcb2-da3610c94392",
        "colab": {
          "base_uri": "https://localhost:8080/"
        }
      },
      "execution_count": 116,
      "outputs": [
        {
          "output_type": "stream",
          "name": "stdout",
          "text": [
            "pythoN\n"
          ]
        }
      ]
    },
    {
      "cell_type": "markdown",
      "source": [
        "#48"
      ],
      "metadata": {
        "id": "JwQ9OIoOvJ11"
      }
    },
    {
      "cell_type": "code",
      "source": [
        "def swap_commas_dots(text):\n",
        "  text = text.replace(',', '@')\n",
        "  text = text.replace('.', ',')\n",
        "  text = text.replace('@', '.')\n",
        "  return text\n",
        "ex = '32.054,23'\n",
        "\n",
        "swapped_string = swap_commas_dots(ex)\n",
        "\n",
        "print(\"Result:\", swapped_string)"
      ],
      "metadata": {
        "colab": {
          "base_uri": "https://localhost:8080/"
        },
        "id": "-b9uEQ38uDvj",
        "outputId": "99dfc277-5d10-4681-d083-ff6f48563c7b"
      },
      "execution_count": 121,
      "outputs": [
        {
          "output_type": "stream",
          "name": "stdout",
          "text": [
            "Result: 32,054.23\n"
          ]
        }
      ]
    },
    {
      "cell_type": "markdown",
      "source": [
        "#49"
      ],
      "metadata": {
        "id": "1vx22Iu2wmxE"
      }
    },
    {
      "cell_type": "code",
      "source": [],
      "metadata": {
        "id": "46G6DNwwwnm-"
      },
      "execution_count": null,
      "outputs": []
    }
  ]
}