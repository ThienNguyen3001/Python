{
  "nbformat": 4,
  "nbformat_minor": 0,
  "metadata": {
    "colab": {
      "provenance": [],
      "authorship_tag": "ABX9TyOwula3m4z11pI+dMnahXd0",
      "include_colab_link": true
    },
    "kernelspec": {
      "name": "python3",
      "display_name": "Python 3"
    },
    "language_info": {
      "name": "python"
    }
  },
  "cells": [
    {
      "cell_type": "markdown",
      "metadata": {
        "id": "view-in-github",
        "colab_type": "text"
      },
      "source": [
        "<a href=\"https://colab.research.google.com/github/ThienNguyen3001/Python/blob/main/BTVN_Python.ipynb\" target=\"_parent\"><img src=\"https://colab.research.google.com/assets/colab-badge.svg\" alt=\"Open In Colab\"/></a>"
      ]
    },
    {
      "cell_type": "markdown",
      "source": [
        "#1"
      ],
      "metadata": {
        "id": "XEqzgbX_xpcm"
      }
    },
    {
      "cell_type": "code",
      "execution_count": 1,
      "metadata": {
        "colab": {
          "base_uri": "https://localhost:8080/"
        },
        "id": "JQGB5ef-xlSk",
        "outputId": "1ee2556a-880f-4410-ce6d-9798113f1c2e"
      },
      "outputs": [
        {
          "output_type": "stream",
          "name": "stdout",
          "text": [
            "11\n"
          ]
        }
      ],
      "source": [
        "x = \"Hello world\"\n",
        "print(len(x))"
      ]
    },
    {
      "cell_type": "markdown",
      "source": [
        "#2"
      ],
      "metadata": {
        "id": "m9QJG7KDx06O"
      }
    },
    {
      "cell_type": "code",
      "source": [
        "x = 'google.com'\n",
        "from collections import Counter\n",
        "print(Counter(x))"
      ],
      "metadata": {
        "colab": {
          "base_uri": "https://localhost:8080/"
        },
        "id": "cVBZTp40x0J2",
        "outputId": "9e19b1ca-8068-476a-ccd9-ec55f5799ffc"
      },
      "execution_count": 2,
      "outputs": [
        {
          "output_type": "stream",
          "name": "stdout",
          "text": [
            "Counter({'o': 3, 'g': 2, 'l': 1, 'e': 1, '.': 1, 'c': 1, 'm': 1})\n"
          ]
        }
      ]
    },
    {
      "cell_type": "code",
      "source": [
        "ex1 = 'w3resource'\n",
        "ex2 = 'w3ce'\n",
        "ex3 = 'w3'\n",
        "ex4 = 'w3w3'\n",
        "ex5 = ' w'\n",
        "ex6 = ''\n",
        "def get_two(my_str):\n",
        "  if len(my_str) <= 2:\n",
        "    return \"\"\n",
        "  else:\n",
        "    return my_str[0:2] + my_str[-2:]\n",
        "print(get_two(ex1))\n",
        "print(get_two(ex2))\n",
        "print(get_two(ex3))\n",
        "print(get_two(ex4))\n",
        "print(get_two(ex5))\n",
        "print(get_two(ex6))"
      ],
      "metadata": {
        "colab": {
          "base_uri": "https://localhost:8080/"
        },
        "id": "w_Xp9le2zfNV",
        "outputId": "de1f1214-b4ce-4d2d-eba5-93b6ea9b9cc6"
      },
      "execution_count": 3,
      "outputs": [
        {
          "output_type": "stream",
          "name": "stdout",
          "text": [
            "w3ce\n",
            "w3ce\n",
            "\n",
            "w3w3\n",
            "\n",
            "\n"
          ]
        }
      ]
    },
    {
      "cell_type": "markdown",
      "source": [
        "#4"
      ],
      "metadata": {
        "id": "M3J4fID_7eMj"
      }
    },
    {
      "cell_type": "code",
      "source": [
        "x = 'restart'\n",
        "def change_char(my_str):\n",
        "  char = my_str[0]\n",
        "  my_str = my_str.replace(char, '$')\n",
        "  my_str = char + my_str[1:]\n",
        "  return my_str\n",
        "print(change_char(x))"
      ],
      "metadata": {
        "colab": {
          "base_uri": "https://localhost:8080/"
        },
        "id": "zakLvXzV0zED",
        "outputId": "5416fef3-17bb-458a-e0ad-8c419707c8f3"
      },
      "execution_count": 4,
      "outputs": [
        {
          "output_type": "stream",
          "name": "stdout",
          "text": [
            "resta$t\n"
          ]
        }
      ]
    },
    {
      "cell_type": "markdown",
      "source": [
        "#5"
      ],
      "metadata": {
        "id": "FsRe7PRr7m4T"
      }
    },
    {
      "cell_type": "code",
      "source": [
        "x1 = 'abc'\n",
        "x2 = 'xyz'\n",
        "def swap_char(a, b):\n",
        "  new_a = b[:2] + a[2:]\n",
        "  new_b = a[:2] + b[2:]\n",
        "  return new_a + ' ' + new_b\n",
        "print(swap_char(x1, x2))"
      ],
      "metadata": {
        "colab": {
          "base_uri": "https://localhost:8080/"
        },
        "id": "8yaivmqu7gBE",
        "outputId": "8dacab56-f349-4740-8b73-f09dee114e29"
      },
      "execution_count": 5,
      "outputs": [
        {
          "output_type": "stream",
          "name": "stdout",
          "text": [
            "xyc abz\n"
          ]
        }
      ]
    },
    {
      "cell_type": "markdown",
      "source": [
        "#6"
      ],
      "metadata": {
        "id": "E52UFgaB7_qC"
      }
    },
    {
      "cell_type": "code",
      "source": [
        "ex1 = 'abc'\n",
        "ex2 = 'string'\n",
        "def add_ing(my_str):\n",
        "  length = len(my_str)\n",
        "  if length > 2:\n",
        "    if my_str[-3:] == 'ing':\n",
        "      my_str += 'ly'\n",
        "    else:\n",
        "      my_str += 'ing'\n",
        "  return my_str\n",
        "print(add_ing(ex1))\n",
        "print(add_ing(ex2))"
      ],
      "metadata": {
        "id": "N6ySjA2U8A9q",
        "outputId": "c9b6282a-5441-43d1-963b-7d12163cfc62",
        "colab": {
          "base_uri": "https://localhost:8080/"
        }
      },
      "execution_count": 7,
      "outputs": [
        {
          "output_type": "stream",
          "name": "stdout",
          "text": [
            "abcing\n",
            "stringly\n"
          ]
        }
      ]
    },
    {
      "cell_type": "markdown",
      "source": [
        "#7"
      ],
      "metadata": {
        "id": "ase8qLPOK0si"
      }
    },
    {
      "cell_type": "code",
      "source": [
        "ex1 = 'The lyrics is not that poor!'\n",
        "ex2 = 'The lyrics is poor!'\n",
        "def not_poor(my_str):\n",
        "  snot = my_str.find('not')\n",
        "  spoor = my_str.find('poor')\n",
        "  if spoor > snot and snot>0 and spoor>0:\n",
        "    my_str = my_str.replace(my_str[snot:(spoor+4)], 'good')\n",
        "  return my_str\n",
        "print(not_poor(ex1))\n",
        "print(not_poor(ex2))"
      ],
      "metadata": {
        "id": "YAVaGPbaK1R7",
        "outputId": "38d1caaa-52c0-4353-d5c4-9701c5232cc0",
        "colab": {
          "base_uri": "https://localhost:8080/"
        }
      },
      "execution_count": 8,
      "outputs": [
        {
          "output_type": "stream",
          "name": "stdout",
          "text": [
            "The lyrics is good!\n",
            "The lyrics is poor!\n"
          ]
        }
      ]
    },
    {
      "cell_type": "markdown",
      "source": [
        "#9"
      ],
      "metadata": {
        "id": "-jPKwp8iLQxI"
      }
    },
    {
      "cell_type": "code",
      "source": [
        "x = \"Python\"\n",
        "def remove_char(my_str, i):\n",
        "  first_part = my_str[:i]\n",
        "  last_part = my_str[i+1:]\n",
        "  return first_part + last_part\n",
        "print(remove_char(x, 3))"
      ],
      "metadata": {
        "id": "26BX3r8XLR6U",
        "outputId": "c992ef51-3cf5-4ceb-bec9-6a40e80e4eb3",
        "colab": {
          "base_uri": "https://localhost:8080/"
        }
      },
      "execution_count": 11,
      "outputs": [
        {
          "output_type": "stream",
          "name": "stdout",
          "text": [
            "Pyton\n"
          ]
        }
      ]
    },
    {
      "cell_type": "markdown",
      "source": [
        "#10"
      ],
      "metadata": {
        "id": "udPQ8tAVLy34"
      }
    },
    {
      "cell_type": "code",
      "source": [
        "x = \"Python\"\n",
        "def swap_char(my_str):\n",
        "  return my_str[-1:] + my_str[1:-1] + my_str[:1]\n",
        "print(swap_char(x))"
      ],
      "metadata": {
        "id": "7D23GPoMLzip",
        "outputId": "e54b1955-6069-4274-e32b-1a5691d87c04",
        "colab": {
          "base_uri": "https://localhost:8080/"
        }
      },
      "execution_count": 13,
      "outputs": [
        {
          "output_type": "stream",
          "name": "stdout",
          "text": [
            "nythoP\n"
          ]
        }
      ]
    },
    {
      "cell_type": "markdown",
      "source": [
        "#11"
      ],
      "metadata": {
        "id": "gCRbzFyrMAWP"
      }
    },
    {
      "cell_type": "code",
      "source": [
        "x = \"Python\"\n",
        "def remove_odd_char(my_str):\n",
        "  result = \"\"\n",
        "  for i in range(len(my_str)):\n",
        "    if i % 2 == 0:\n",
        "      result = result + my_str[i]\n",
        "  return result\n",
        "print(remove_odd_char(x))"
      ],
      "metadata": {
        "id": "UQNoc74_L_xM",
        "outputId": "842979c5-9c1a-4b4a-8d43-53f7ec27ecd0",
        "colab": {
          "base_uri": "https://localhost:8080/"
        }
      },
      "execution_count": 14,
      "outputs": [
        {
          "output_type": "stream",
          "name": "stdout",
          "text": [
            "Pto\n"
          ]
        }
      ]
    },
    {
      "cell_type": "markdown",
      "source": [
        "#12"
      ],
      "metadata": {
        "id": "yfA1FnoQMgh4"
      }
    },
    {
      "cell_type": "code",
      "source": [
        "x = \"Hello World Hello\"\n",
        "def word_count(my_str):\n",
        "  counts = dict()\n",
        "  words = my_str.split()\n",
        "  for word in words:\n",
        "    if word in counts:\n",
        "      counts[word] += 1\n",
        "    else:\n",
        "      counts[word] = 1\n",
        "  return counts\n",
        "print(word_count(x))"
      ],
      "metadata": {
        "id": "eCnFJAQMMcBU",
        "outputId": "ab8b2d68-2718-43f8-9f71-12b7222b54be",
        "colab": {
          "base_uri": "https://localhost:8080/"
        }
      },
      "execution_count": 18,
      "outputs": [
        {
          "output_type": "stream",
          "name": "stdout",
          "text": [
            "{'Hello': 2, 'World': 1}\n"
          ]
        }
      ]
    },
    {
      "cell_type": "markdown",
      "source": [
        "#13"
      ],
      "metadata": {
        "id": "ijK78EntNI1X"
      }
    },
    {
      "cell_type": "code",
      "source": [
        "name = input(\"Enter your name: \")\n",
        "print(\"Upper case:\",name.upper())\n",
        "print(\"Lower case:\",name.lower())"
      ],
      "metadata": {
        "id": "qapVwJrHNJY9",
        "outputId": "8ecbcbb7-6e6b-4488-f87e-da4e48a2dfc7",
        "colab": {
          "base_uri": "https://localhost:8080/"
        }
      },
      "execution_count": 19,
      "outputs": [
        {
          "output_type": "stream",
          "name": "stdout",
          "text": [
            "Enter your name: thien\n",
            "Upper case: THIEN\n",
            "Lower case: thien\n"
          ]
        }
      ]
    },
    {
      "cell_type": "markdown",
      "source": [
        "#14"
      ],
      "metadata": {
        "id": "uQql1shTNXQ2"
      }
    },
    {
      "cell_type": "code",
      "source": [
        "ex = 'red, white, black, red, green, black'\n",
        "def word_sort(my_str):\n",
        "  counts = dict()\n",
        "  words = my_str.split(',')\n",
        "  for word in words:\n",
        "    if word in counts:\n",
        "      counts[word] += 1\n",
        "    else:\n",
        "      counts[word] = 1\n",
        "    counts = dict(sorted(counts.items()))\n",
        "  return counts\n",
        "for i in word_sort(ex):\n",
        "  print(i,end=',')"
      ],
      "metadata": {
        "id": "CMlqsBY9NX4M",
        "outputId": "9ca50c4b-e64c-4e80-8b39-1166c634e952",
        "colab": {
          "base_uri": "https://localhost:8080/"
        }
      },
      "execution_count": 29,
      "outputs": [
        {
          "output_type": "stream",
          "name": "stdout",
          "text": [
            " black, green, red, white,red,"
          ]
        }
      ]
    },
    {
      "cell_type": "markdown",
      "source": [
        "#15"
      ],
      "metadata": {
        "id": "TMY_ihj1OmnU"
      }
    },
    {
      "cell_type": "code",
      "source": [
        "def add_tag(tag, word):\n",
        "  return \"<%s>%s</%s>\" % (tag, word, tag)\n",
        "print(add_tag('i', 'Python'))\n",
        "print(add_tag('b', 'Python Tutorial'))"
      ],
      "metadata": {
        "id": "iO15QaCAOnJr",
        "outputId": "0b2c36c7-7c4f-4931-b3c8-e0077c83ea42",
        "colab": {
          "base_uri": "https://localhost:8080/"
        }
      },
      "execution_count": 32,
      "outputs": [
        {
          "output_type": "stream",
          "name": "stdout",
          "text": [
            "<i>Python</i>\n",
            "<b>Python Tutorial</b>\n"
          ]
        }
      ]
    },
    {
      "cell_type": "markdown",
      "source": [
        "#16"
      ],
      "metadata": {
        "id": "4_yD4qhJPGV-"
      }
    },
    {
      "cell_type": "code",
      "source": [
        "def insert_sting_middle(str1,str2):\n",
        "  return str1[:2] + str2 + str1[2:]\n",
        "print(insert_sting_middle('[[]]', 'Python'))\n",
        "print(insert_sting_middle('{{}}', 'PHP'))"
      ],
      "metadata": {
        "id": "EAYgOBHCPHNJ",
        "outputId": "fcdcc761-8b97-42c6-d6f4-7f49e7926c31",
        "colab": {
          "base_uri": "https://localhost:8080/"
        }
      },
      "execution_count": 33,
      "outputs": [
        {
          "output_type": "stream",
          "name": "stdout",
          "text": [
            "[[Python]]\n",
            "{{PHP}}\n"
          ]
        }
      ]
    },
    {
      "cell_type": "markdown",
      "source": [
        "#17"
      ],
      "metadata": {
        "id": "nxU9ODKgPdL-"
      }
    },
    {
      "cell_type": "code",
      "source": [
        "def insert_end(my_str):\n",
        "  if len(my_str) < 2:\n",
        "    return\n",
        "  copy = my_str[-2:]\n",
        "  return copy*4\n",
        "print(insert_end('Python'))\n",
        "print(insert_end('Exercises'))"
      ],
      "metadata": {
        "id": "IRNbIhDlPeDe",
        "outputId": "f1104f6d-0516-4c6e-e71e-cbb8db1ede88",
        "colab": {
          "base_uri": "https://localhost:8080/"
        }
      },
      "execution_count": 37,
      "outputs": [
        {
          "output_type": "stream",
          "name": "stdout",
          "text": [
            "onononon\n",
            "eseseses\n"
          ]
        }
      ]
    },
    {
      "cell_type": "markdown",
      "source": [
        "#18"
      ],
      "metadata": {
        "id": "-KcDEFMaP8dE"
      }
    },
    {
      "cell_type": "code",
      "source": [
        "def first_three(my_str):\n",
        "  if len(my_str) < 3:\n",
        "    return my_str\n",
        "  return my_str[:3]\n",
        "print(first_three('ipy'))\n",
        "print(first_three('python'))"
      ],
      "metadata": {
        "id": "jgzEMU_sP8_V",
        "outputId": "d426ebcb-7c1f-42c7-d10b-1ed9e4e480e9",
        "colab": {
          "base_uri": "https://localhost:8080/"
        }
      },
      "execution_count": 39,
      "outputs": [
        {
          "output_type": "stream",
          "name": "stdout",
          "text": [
            "ipy\n",
            "pyt\n"
          ]
        }
      ]
    },
    {
      "cell_type": "markdown",
      "source": [
        "#19"
      ],
      "metadata": {
        "id": "AFbZSv3tQgrl"
      }
    },
    {
      "cell_type": "code",
      "source": [
        "#Write a Python program to get the last part of a string before a specified character.\n",
        "def get_last_part(my_str, sep):\n",
        "  return my_str.rsplit(sep, 1)[0]\n",
        "print(get_last_part('www.w3resource.com/python-exercises', '/'))"
      ],
      "metadata": {
        "id": "gqWlYXv2QhRl",
        "outputId": "85f1456f-9386-4efd-e279-72bb4070038f",
        "colab": {
          "base_uri": "https://localhost:8080/"
        }
      },
      "execution_count": 43,
      "outputs": [
        {
          "output_type": "stream",
          "name": "stdout",
          "text": [
            "www.w3resource.com\n"
          ]
        }
      ]
    },
    {
      "cell_type": "markdown",
      "source": [
        "#20"
      ],
      "metadata": {
        "id": "4wiM1Bv3R-Qg"
      }
    },
    {
      "cell_type": "code",
      "source": [
        "def reverse(my_str):\n",
        "  if len(my_str) % 4 == 0:\n",
        "    return my_str[::-1]\n",
        "  return my_str\n",
        "print(reverse('abcd'))"
      ],
      "metadata": {
        "id": "jAfLmBYFRqz1",
        "outputId": "4d2ba85e-5c8f-453c-f62e-8596775c942c",
        "colab": {
          "base_uri": "https://localhost:8080/"
        }
      },
      "execution_count": 46,
      "outputs": [
        {
          "output_type": "stream",
          "name": "stdout",
          "text": [
            "dcba\n"
          ]
        }
      ]
    },
    {
      "cell_type": "markdown",
      "source": [
        "#21"
      ],
      "metadata": {
        "id": "fblWiI2yS155"
      }
    },
    {
      "cell_type": "code",
      "source": [],
      "metadata": {
        "id": "wGGmcsQuS2cl"
      },
      "execution_count": null,
      "outputs": []
    }
  ]
}