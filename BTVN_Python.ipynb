{
  "nbformat": 4,
  "nbformat_minor": 0,
  "metadata": {
    "colab": {
      "provenance": [],
      "authorship_tag": "ABX9TyOFW2oYPf2z2Sphhee3QHy5",
      "include_colab_link": true
    },
    "kernelspec": {
      "name": "python3",
      "display_name": "Python 3"
    },
    "language_info": {
      "name": "python"
    }
  },
  "cells": [
    {
      "cell_type": "markdown",
      "metadata": {
        "id": "view-in-github",
        "colab_type": "text"
      },
      "source": [
        "<a href=\"https://colab.research.google.com/github/ThienNguyen3001/Python/blob/main/BTVN_Python.ipynb\" target=\"_parent\"><img src=\"https://colab.research.google.com/assets/colab-badge.svg\" alt=\"Open In Colab\"/></a>"
      ]
    },
    {
      "cell_type": "markdown",
      "source": [
        "#1"
      ],
      "metadata": {
        "id": "XEqzgbX_xpcm"
      }
    },
    {
      "cell_type": "code",
      "execution_count": 47,
      "metadata": {
        "colab": {
          "base_uri": "https://localhost:8080/"
        },
        "id": "JQGB5ef-xlSk",
        "outputId": "00a35f5a-eaa5-401d-d566-336ebfa98338"
      },
      "outputs": [
        {
          "output_type": "stream",
          "name": "stdout",
          "text": [
            "11\n"
          ]
        }
      ],
      "source": [
        "x = \"Hello world\"\n",
        "print(len(x))"
      ]
    },
    {
      "cell_type": "markdown",
      "source": [
        "#2"
      ],
      "metadata": {
        "id": "m9QJG7KDx06O"
      }
    },
    {
      "cell_type": "code",
      "source": [
        "x = 'google.com'\n",
        "from collections import Counter\n",
        "print(Counter(x))"
      ],
      "metadata": {
        "colab": {
          "base_uri": "https://localhost:8080/"
        },
        "id": "cVBZTp40x0J2",
        "outputId": "bfc5018a-fca8-4c91-ea2b-c6e65ef4f24c"
      },
      "execution_count": 48,
      "outputs": [
        {
          "output_type": "stream",
          "name": "stdout",
          "text": [
            "Counter({'o': 3, 'g': 2, 'l': 1, 'e': 1, '.': 1, 'c': 1, 'm': 1})\n"
          ]
        }
      ]
    },
    {
      "cell_type": "code",
      "source": [
        "ex1 = 'w3resource'\n",
        "ex2 = 'w3ce'\n",
        "ex3 = 'w3'\n",
        "ex4 = 'w3w3'\n",
        "ex5 = ' w'\n",
        "ex6 = ''\n",
        "def get_two(my_str):\n",
        "  if len(my_str) <= 2:\n",
        "    return \"\"\n",
        "  else:\n",
        "    return my_str[0:2] + my_str[-2:]\n",
        "print(get_two(ex1))\n",
        "print(get_two(ex2))\n",
        "print(get_two(ex3))\n",
        "print(get_two(ex4))\n",
        "print(get_two(ex5))\n",
        "print(get_two(ex6))"
      ],
      "metadata": {
        "colab": {
          "base_uri": "https://localhost:8080/"
        },
        "id": "w_Xp9le2zfNV",
        "outputId": "c31e16fd-b630-4752-d5f1-aa83bee155a9"
      },
      "execution_count": 49,
      "outputs": [
        {
          "output_type": "stream",
          "name": "stdout",
          "text": [
            "w3ce\n",
            "w3ce\n",
            "\n",
            "w3w3\n",
            "\n",
            "\n"
          ]
        }
      ]
    },
    {
      "cell_type": "markdown",
      "source": [
        "#4"
      ],
      "metadata": {
        "id": "M3J4fID_7eMj"
      }
    },
    {
      "cell_type": "code",
      "source": [
        "x = 'restart'\n",
        "def change_char(my_str):\n",
        "  char = my_str[0]\n",
        "  my_str = my_str.replace(char, '$')\n",
        "  my_str = char + my_str[1:]\n",
        "  return my_str\n",
        "print(change_char(x))"
      ],
      "metadata": {
        "colab": {
          "base_uri": "https://localhost:8080/"
        },
        "id": "zakLvXzV0zED",
        "outputId": "dfb31682-3d9d-4a42-ef60-9d156ecf2626"
      },
      "execution_count": 50,
      "outputs": [
        {
          "output_type": "stream",
          "name": "stdout",
          "text": [
            "resta$t\n"
          ]
        }
      ]
    },
    {
      "cell_type": "markdown",
      "source": [
        "#5"
      ],
      "metadata": {
        "id": "FsRe7PRr7m4T"
      }
    },
    {
      "cell_type": "code",
      "source": [
        "x1 = 'abc'\n",
        "x2 = 'xyz'\n",
        "def swap_char(a, b):\n",
        "  new_a = b[:2] + a[2:]\n",
        "  new_b = a[:2] + b[2:]\n",
        "  return new_a + ' ' + new_b\n",
        "print(swap_char(x1, x2))"
      ],
      "metadata": {
        "colab": {
          "base_uri": "https://localhost:8080/"
        },
        "id": "8yaivmqu7gBE",
        "outputId": "6ad4209b-358c-4331-a4f0-603ade19b208"
      },
      "execution_count": 51,
      "outputs": [
        {
          "output_type": "stream",
          "name": "stdout",
          "text": [
            "xyc abz\n"
          ]
        }
      ]
    },
    {
      "cell_type": "markdown",
      "source": [
        "#6"
      ],
      "metadata": {
        "id": "E52UFgaB7_qC"
      }
    },
    {
      "cell_type": "code",
      "source": [
        "ex1 = 'abc'\n",
        "ex2 = 'string'\n",
        "def add_ing(my_str):\n",
        "  length = len(my_str)\n",
        "  if length > 2:\n",
        "    if my_str[-3:] == 'ing':\n",
        "      my_str += 'ly'\n",
        "    else:\n",
        "      my_str += 'ing'\n",
        "  return my_str\n",
        "print(add_ing(ex1))\n",
        "print(add_ing(ex2))"
      ],
      "metadata": {
        "id": "N6ySjA2U8A9q",
        "outputId": "899e3ccd-53b3-44ec-c0b2-5aa6ef2c74b6",
        "colab": {
          "base_uri": "https://localhost:8080/"
        }
      },
      "execution_count": 52,
      "outputs": [
        {
          "output_type": "stream",
          "name": "stdout",
          "text": [
            "abcing\n",
            "stringly\n"
          ]
        }
      ]
    },
    {
      "cell_type": "markdown",
      "source": [
        "#7"
      ],
      "metadata": {
        "id": "ase8qLPOK0si"
      }
    },
    {
      "cell_type": "code",
      "source": [
        "ex1 = 'The lyrics is not that poor!'\n",
        "ex2 = 'The lyrics is poor!'\n",
        "def not_poor(my_str):\n",
        "  snot = my_str.find('not')\n",
        "  spoor = my_str.find('poor')\n",
        "  if spoor > snot and snot>0 and spoor>0:\n",
        "    my_str = my_str.replace(my_str[snot:(spoor+4)], 'good')\n",
        "  return my_str\n",
        "print(not_poor(ex1))\n",
        "print(not_poor(ex2))"
      ],
      "metadata": {
        "id": "YAVaGPbaK1R7",
        "outputId": "e61bb625-371d-4bd1-d492-b5d8560ddef4",
        "colab": {
          "base_uri": "https://localhost:8080/"
        }
      },
      "execution_count": 53,
      "outputs": [
        {
          "output_type": "stream",
          "name": "stdout",
          "text": [
            "The lyrics is good!\n",
            "The lyrics is poor!\n"
          ]
        }
      ]
    },
    {
      "cell_type": "markdown",
      "source": [
        "#9"
      ],
      "metadata": {
        "id": "-jPKwp8iLQxI"
      }
    },
    {
      "cell_type": "code",
      "source": [
        "x = \"Python\"\n",
        "def remove_char(my_str, i):\n",
        "  first_part = my_str[:i]\n",
        "  last_part = my_str[i+1:]\n",
        "  return first_part + last_part\n",
        "print(remove_char(x, 3))"
      ],
      "metadata": {
        "id": "26BX3r8XLR6U",
        "outputId": "69b146f7-ff73-4268-9729-fdd864596896",
        "colab": {
          "base_uri": "https://localhost:8080/"
        }
      },
      "execution_count": 54,
      "outputs": [
        {
          "output_type": "stream",
          "name": "stdout",
          "text": [
            "Pyton\n"
          ]
        }
      ]
    },
    {
      "cell_type": "markdown",
      "source": [
        "#10"
      ],
      "metadata": {
        "id": "udPQ8tAVLy34"
      }
    },
    {
      "cell_type": "code",
      "source": [
        "x = \"Python\"\n",
        "def swap_char(my_str):\n",
        "  return my_str[-1:] + my_str[1:-1] + my_str[:1]\n",
        "print(swap_char(x))"
      ],
      "metadata": {
        "id": "7D23GPoMLzip",
        "outputId": "55a9f63a-e850-4b0e-b6d3-53564dc2b4cc",
        "colab": {
          "base_uri": "https://localhost:8080/"
        }
      },
      "execution_count": 55,
      "outputs": [
        {
          "output_type": "stream",
          "name": "stdout",
          "text": [
            "nythoP\n"
          ]
        }
      ]
    },
    {
      "cell_type": "markdown",
      "source": [
        "#11"
      ],
      "metadata": {
        "id": "gCRbzFyrMAWP"
      }
    },
    {
      "cell_type": "code",
      "source": [
        "x = \"Python\"\n",
        "def remove_odd_char(my_str):\n",
        "  result = \"\"\n",
        "  for i in range(len(my_str)):\n",
        "    if i % 2 == 0:\n",
        "      result = result + my_str[i]\n",
        "  return result\n",
        "print(remove_odd_char(x))"
      ],
      "metadata": {
        "id": "UQNoc74_L_xM",
        "outputId": "33facc91-3914-4238-ed00-7e5194b35cfe",
        "colab": {
          "base_uri": "https://localhost:8080/"
        }
      },
      "execution_count": 56,
      "outputs": [
        {
          "output_type": "stream",
          "name": "stdout",
          "text": [
            "Pto\n"
          ]
        }
      ]
    },
    {
      "cell_type": "markdown",
      "source": [
        "#12"
      ],
      "metadata": {
        "id": "yfA1FnoQMgh4"
      }
    },
    {
      "cell_type": "code",
      "source": [
        "x = \"Hello World Hello\"\n",
        "def word_count(my_str):\n",
        "  counts = dict()\n",
        "  words = my_str.split()\n",
        "  for word in words:\n",
        "    if word in counts:\n",
        "      counts[word] += 1\n",
        "    else:\n",
        "      counts[word] = 1\n",
        "  return counts\n",
        "print(word_count(x))"
      ],
      "metadata": {
        "id": "eCnFJAQMMcBU",
        "outputId": "a79560f3-1092-45ff-84de-eb748b520ae0",
        "colab": {
          "base_uri": "https://localhost:8080/"
        }
      },
      "execution_count": 57,
      "outputs": [
        {
          "output_type": "stream",
          "name": "stdout",
          "text": [
            "{'Hello': 2, 'World': 1}\n"
          ]
        }
      ]
    },
    {
      "cell_type": "markdown",
      "source": [
        "#13"
      ],
      "metadata": {
        "id": "ijK78EntNI1X"
      }
    },
    {
      "cell_type": "code",
      "source": [
        "name = input(\"Enter your name: \")\n",
        "print(\"Upper case:\",name.upper())\n",
        "print(\"Lower case:\",name.lower())"
      ],
      "metadata": {
        "id": "qapVwJrHNJY9",
        "outputId": "1b9ceaa8-f579-4188-b305-e802ad1b20a2",
        "colab": {
          "base_uri": "https://localhost:8080/"
        }
      },
      "execution_count": 58,
      "outputs": [
        {
          "output_type": "stream",
          "name": "stdout",
          "text": [
            "Enter your name: Thien\n",
            "Upper case: THIEN\n",
            "Lower case: thien\n"
          ]
        }
      ]
    },
    {
      "cell_type": "markdown",
      "source": [
        "#14"
      ],
      "metadata": {
        "id": "uQql1shTNXQ2"
      }
    },
    {
      "cell_type": "code",
      "source": [
        "ex = 'red, white, black, red, green, black'\n",
        "def word_sort(my_str):\n",
        "  counts = dict()\n",
        "  words = my_str.split(',')\n",
        "  for word in words:\n",
        "    if word in counts:\n",
        "      counts[word] += 1\n",
        "    else:\n",
        "      counts[word] = 1\n",
        "    counts = dict(sorted(counts.items()))\n",
        "  return counts\n",
        "for i in word_sort(ex):\n",
        "  print(i,end=',')"
      ],
      "metadata": {
        "id": "CMlqsBY9NX4M",
        "outputId": "0b4426bc-97b0-4d11-baa3-501bd90b1dc3",
        "colab": {
          "base_uri": "https://localhost:8080/"
        }
      },
      "execution_count": 82,
      "outputs": [
        {
          "output_type": "stream",
          "name": "stdout",
          "text": [
            " black, green, red, white,red,"
          ]
        }
      ]
    },
    {
      "cell_type": "markdown",
      "source": [
        "#15"
      ],
      "metadata": {
        "id": "TMY_ihj1OmnU"
      }
    },
    {
      "cell_type": "code",
      "source": [
        "def add_tag(tag, word):\n",
        "  return \"<%s>%s</%s>\" % (tag, word, tag)\n",
        "print(add_tag('i', 'Python'))\n",
        "print(add_tag('b', 'Python Tutorial'))"
      ],
      "metadata": {
        "id": "iO15QaCAOnJr",
        "outputId": "63b2b7e5-b165-4f45-b747-4254b223c33f",
        "colab": {
          "base_uri": "https://localhost:8080/"
        }
      },
      "execution_count": 60,
      "outputs": [
        {
          "output_type": "stream",
          "name": "stdout",
          "text": [
            "<i>Python</i>\n",
            "<b>Python Tutorial</b>\n"
          ]
        }
      ]
    },
    {
      "cell_type": "markdown",
      "source": [
        "#16"
      ],
      "metadata": {
        "id": "4_yD4qhJPGV-"
      }
    },
    {
      "cell_type": "code",
      "source": [
        "def insert_sting_middle(str1,str2):\n",
        "  return str1[:2] + str2 + str1[2:]\n",
        "print(insert_sting_middle('[[]]', 'Python'))\n",
        "print(insert_sting_middle('{{}}', 'PHP'))"
      ],
      "metadata": {
        "id": "EAYgOBHCPHNJ",
        "outputId": "6b327368-fe13-477b-b3ea-1b4a4cc3a7fc",
        "colab": {
          "base_uri": "https://localhost:8080/"
        }
      },
      "execution_count": 61,
      "outputs": [
        {
          "output_type": "stream",
          "name": "stdout",
          "text": [
            "[[Python]]\n",
            "{{PHP}}\n"
          ]
        }
      ]
    },
    {
      "cell_type": "markdown",
      "source": [
        "#17"
      ],
      "metadata": {
        "id": "nxU9ODKgPdL-"
      }
    },
    {
      "cell_type": "code",
      "source": [
        "def insert_end(my_str):\n",
        "  if len(my_str) < 2:\n",
        "    return\n",
        "  copy = my_str[-2:]\n",
        "  return copy*4\n",
        "print(insert_end('Python'))\n",
        "print(insert_end('Exercises'))"
      ],
      "metadata": {
        "id": "IRNbIhDlPeDe",
        "outputId": "8626c537-bf58-4475-a90b-4fc046b433b6",
        "colab": {
          "base_uri": "https://localhost:8080/"
        }
      },
      "execution_count": 62,
      "outputs": [
        {
          "output_type": "stream",
          "name": "stdout",
          "text": [
            "onononon\n",
            "eseseses\n"
          ]
        }
      ]
    },
    {
      "cell_type": "markdown",
      "source": [
        "#18"
      ],
      "metadata": {
        "id": "-KcDEFMaP8dE"
      }
    },
    {
      "cell_type": "code",
      "source": [
        "def first_three(my_str):\n",
        "  if len(my_str) < 3:\n",
        "    return my_str\n",
        "  return my_str[:3]\n",
        "print(first_three('ipy'))\n",
        "print(first_three('python'))"
      ],
      "metadata": {
        "id": "jgzEMU_sP8_V",
        "outputId": "03833864-a436-402d-bdc0-e8e5722989e5",
        "colab": {
          "base_uri": "https://localhost:8080/"
        }
      },
      "execution_count": 63,
      "outputs": [
        {
          "output_type": "stream",
          "name": "stdout",
          "text": [
            "ipy\n",
            "pyt\n"
          ]
        }
      ]
    },
    {
      "cell_type": "markdown",
      "source": [
        "#19"
      ],
      "metadata": {
        "id": "AFbZSv3tQgrl"
      }
    },
    {
      "cell_type": "code",
      "source": [
        "x = 'www.w3resource.com/python-exercises'\n",
        "def get_last_part(my_str, sep):\n",
        "  return my_str.rsplit(sep, 1)[0]\n",
        "print(get_last_part(x, '/'))"
      ],
      "metadata": {
        "id": "gqWlYXv2QhRl",
        "outputId": "b106879e-257d-4347-dfac-925a665f0582",
        "colab": {
          "base_uri": "https://localhost:8080/"
        }
      },
      "execution_count": 64,
      "outputs": [
        {
          "output_type": "stream",
          "name": "stdout",
          "text": [
            "www.w3resource.com\n"
          ]
        }
      ]
    },
    {
      "cell_type": "markdown",
      "source": [
        "#20"
      ],
      "metadata": {
        "id": "4wiM1Bv3R-Qg"
      }
    },
    {
      "cell_type": "code",
      "source": [
        "x = 'abcd'\n",
        "def reverse(my_str):\n",
        "  if len(my_str) % 4 == 0:\n",
        "    return my_str[::-1]\n",
        "  return my_str\n",
        "print(reverse(x))"
      ],
      "metadata": {
        "id": "jAfLmBYFRqz1",
        "outputId": "c6403e92-af02-471e-b849-902bcb3e653f",
        "colab": {
          "base_uri": "https://localhost:8080/"
        }
      },
      "execution_count": 65,
      "outputs": [
        {
          "output_type": "stream",
          "name": "stdout",
          "text": [
            "dcba\n"
          ]
        }
      ]
    },
    {
      "cell_type": "markdown",
      "source": [
        "#21"
      ],
      "metadata": {
        "id": "fblWiI2yS155"
      }
    },
    {
      "cell_type": "code",
      "source": [
        "x = 'PyThon'\n",
        "def convert(my_str):\n",
        "  count = 0\n",
        "  for i in range(0,5):\n",
        "    if ('A'< my_str[i] <'Z'):\n",
        "      count+=1\n",
        "  if (count >= 2):\n",
        "    return my_str.upper()\n",
        "  return my_str\n",
        "print(convert(x))"
      ],
      "metadata": {
        "id": "wGGmcsQuS2cl",
        "outputId": "e770441e-10f8-4975-fccd-d4023780b44b",
        "colab": {
          "base_uri": "https://localhost:8080/"
        }
      },
      "execution_count": 72,
      "outputs": [
        {
          "output_type": "stream",
          "name": "stdout",
          "text": [
            "PYTHON\n"
          ]
        }
      ]
    },
    {
      "cell_type": "markdown",
      "source": [
        "#22"
      ],
      "metadata": {
        "id": "_Nqd4dBeV0a-"
      }
    },
    {
      "cell_type": "code",
      "source": [
        "ex = 'red white black green'\n",
        "\n",
        "def word_sort(my_str):\n",
        "  words = my_str.split()\n",
        "  return sorted(words)\n",
        "\n",
        "for word in word_sort(ex):\n",
        "  print(word, end=' ')"
      ],
      "metadata": {
        "id": "HSKcB_L7V1MP",
        "outputId": "f4e3e2cf-f5f2-430c-f3ee-1f80f9c3b201",
        "colab": {
          "base_uri": "https://localhost:8080/"
        }
      },
      "execution_count": 80,
      "outputs": [
        {
          "output_type": "stream",
          "name": "stdout",
          "text": [
            "black green red white "
          ]
        }
      ]
    },
    {
      "cell_type": "markdown",
      "source": [
        "#23"
      ],
      "metadata": {
        "id": "h0wW24u7XMR0"
      }
    },
    {
      "cell_type": "code",
      "source": [
        "ex = 'Python\\n1\\n2\\n3'\n",
        "def remove_new_line(my_str):\n",
        "  return my_str.replace('\\n', '')\n",
        "print(remove_new_line(ex))"
      ],
      "metadata": {
        "id": "AtiEfh95XMxx",
        "outputId": "e7a00ed3-8525-40fa-97ab-52b2fce18b0a",
        "colab": {
          "base_uri": "https://localhost:8080/"
        }
      },
      "execution_count": 85,
      "outputs": [
        {
          "output_type": "stream",
          "name": "stdout",
          "text": [
            "Python123\n"
          ]
        }
      ]
    }
  ]
}