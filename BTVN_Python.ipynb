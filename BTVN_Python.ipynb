{
  "nbformat": 4,
  "nbformat_minor": 0,
  "metadata": {
    "colab": {
      "provenance": [],
      "authorship_tag": "ABX9TyPrtcPK7ZFK7dm1Hjtp3bKv",
      "include_colab_link": true
    },
    "kernelspec": {
      "name": "python3",
      "display_name": "Python 3"
    },
    "language_info": {
      "name": "python"
    }
  },
  "cells": [
    {
      "cell_type": "markdown",
      "metadata": {
        "id": "view-in-github",
        "colab_type": "text"
      },
      "source": [
        "<a href=\"https://colab.research.google.com/github/ThienNguyen3001/Python/blob/main/BTVN_Python.ipynb\" target=\"_parent\"><img src=\"https://colab.research.google.com/assets/colab-badge.svg\" alt=\"Open In Colab\"/></a>"
      ]
    },
    {
      "cell_type": "markdown",
      "source": [
        "#1"
      ],
      "metadata": {
        "id": "XEqzgbX_xpcm"
      }
    },
    {
      "cell_type": "code",
      "execution_count": 1,
      "metadata": {
        "colab": {
          "base_uri": "https://localhost:8080/"
        },
        "id": "JQGB5ef-xlSk",
        "outputId": "57818d6b-110d-4c96-a363-3f65e3feeeab"
      },
      "outputs": [
        {
          "output_type": "stream",
          "name": "stdout",
          "text": [
            "11\n"
          ]
        }
      ],
      "source": [
        "x = \"Hello world\"\n",
        "print(len(x))"
      ]
    },
    {
      "cell_type": "markdown",
      "source": [
        "#2"
      ],
      "metadata": {
        "id": "m9QJG7KDx06O"
      }
    },
    {
      "cell_type": "code",
      "source": [
        "x = 'google.com'\n",
        "from collections import Counter\n",
        "print(Counter(x))"
      ],
      "metadata": {
        "colab": {
          "base_uri": "https://localhost:8080/"
        },
        "id": "cVBZTp40x0J2",
        "outputId": "4c1705e1-8190-41dc-b75e-5b60cd9c8fdb"
      },
      "execution_count": 3,
      "outputs": [
        {
          "output_type": "stream",
          "name": "stdout",
          "text": [
            "Counter({'o': 3, 'g': 2, 'l': 1, 'e': 1, '.': 1, 'c': 1, 'm': 1})\n"
          ]
        }
      ]
    },
    {
      "cell_type": "code",
      "source": [
        "eg1 = 'w3resource'\n",
        "eg2 = 'w3ce'\n",
        "eg3 = 'w3'\n",
        "eg4 = 'w3w3'\n",
        "eg5 = ' w'\n",
        "eg6 = ''\n",
        "def get_two(my_str):\n",
        "  if len(my_str) <= 2:\n",
        "    return \"\"\n",
        "  else:\n",
        "    return my_str[0:2] + my_str[-2:]\n",
        "print(get_two(eg1))\n",
        "print(get_two(eg2))\n",
        "print(get_two(eg3))\n",
        "print(get_two(eg4))\n",
        "print(get_two(eg5))\n",
        "print(get_two(eg6))"
      ],
      "metadata": {
        "colab": {
          "base_uri": "https://localhost:8080/"
        },
        "id": "w_Xp9le2zfNV",
        "outputId": "7f165a08-9ca2-460f-8997-34df9db7b556"
      },
      "execution_count": 10,
      "outputs": [
        {
          "output_type": "stream",
          "name": "stdout",
          "text": [
            "w3ce\n",
            "w3ce\n",
            "\n",
            "w3w3\n",
            "\n",
            "\n"
          ]
        }
      ]
    },
    {
      "cell_type": "markdown",
      "source": [
        "#4"
      ],
      "metadata": {
        "id": "M3J4fID_7eMj"
      }
    },
    {
      "cell_type": "code",
      "source": [
        "x = 'restart'\n",
        "def change_char(my_str):\n",
        "  char = my_str[0]\n",
        "  my_str = my_str.replace(char, '$')\n",
        "  my_str = char + my_str[1:]\n",
        "  return my_str\n",
        "print(change_char(x))"
      ],
      "metadata": {
        "colab": {
          "base_uri": "https://localhost:8080/"
        },
        "id": "zakLvXzV0zED",
        "outputId": "1b0749a4-ebbe-4a0b-9bc5-d7dd42f94cd0"
      },
      "execution_count": 53,
      "outputs": [
        {
          "output_type": "stream",
          "name": "stdout",
          "text": [
            "resta$t\n"
          ]
        }
      ]
    },
    {
      "cell_type": "markdown",
      "source": [
        "#5"
      ],
      "metadata": {
        "id": "FsRe7PRr7m4T"
      }
    },
    {
      "cell_type": "code",
      "source": [
        "x1 = 'abc'\n",
        "x2 = 'xyz'\n",
        "def swap_char(a, b):\n",
        "  new_a = b[:2] + a[2:]\n",
        "  new_b = a[:2] + b[2:]\n",
        "  return new_a + ' ' + new_b\n",
        "print(swap_char(x1, x2))"
      ],
      "metadata": {
        "colab": {
          "base_uri": "https://localhost:8080/"
        },
        "id": "8yaivmqu7gBE",
        "outputId": "40125831-b82d-4cd2-d15c-af52867b0346"
      },
      "execution_count": 54,
      "outputs": [
        {
          "output_type": "stream",
          "name": "stdout",
          "text": [
            "xyc abz\n"
          ]
        }
      ]
    },
    {
      "cell_type": "markdown",
      "source": [
        "#6"
      ],
      "metadata": {
        "id": "E52UFgaB7_qC"
      }
    },
    {
      "cell_type": "code",
      "source": [],
      "metadata": {
        "id": "N6ySjA2U8A9q"
      },
      "execution_count": null,
      "outputs": []
    }
  ]
}