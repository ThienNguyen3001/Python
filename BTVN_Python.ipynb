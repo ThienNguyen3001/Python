{
  "nbformat": 4,
  "nbformat_minor": 0,
  "metadata": {
    "colab": {
      "provenance": [],
      "authorship_tag": "ABX9TyMWAWXuT+cpQ77KGJhzJ9+H",
      "include_colab_link": true
    },
    "kernelspec": {
      "name": "python3",
      "display_name": "Python 3"
    },
    "language_info": {
      "name": "python"
    }
  },
  "cells": [
    {
      "cell_type": "markdown",
      "metadata": {
        "id": "view-in-github",
        "colab_type": "text"
      },
      "source": [
        "<a href=\"https://colab.research.google.com/github/ThienNguyen3001/Python/blob/main/BTVN_Python.ipynb\" target=\"_parent\"><img src=\"https://colab.research.google.com/assets/colab-badge.svg\" alt=\"Open In Colab\"/></a>"
      ]
    },
    {
      "cell_type": "markdown",
      "source": [
        "#1"
      ],
      "metadata": {
        "id": "XEqzgbX_xpcm"
      }
    },
    {
      "cell_type": "code",
      "execution_count": 1,
      "metadata": {
        "colab": {
          "base_uri": "https://localhost:8080/"
        },
        "id": "JQGB5ef-xlSk",
        "outputId": "1fa2d4af-e676-42f6-d54f-399746398cbd"
      },
      "outputs": [
        {
          "output_type": "stream",
          "name": "stdout",
          "text": [
            "11\n"
          ]
        }
      ],
      "source": [
        "x = \"Hello world\"\n",
        "print(len(x))"
      ]
    },
    {
      "cell_type": "markdown",
      "source": [
        "#2"
      ],
      "metadata": {
        "id": "m9QJG7KDx06O"
      }
    },
    {
      "cell_type": "code",
      "source": [
        "x = 'google.com'\n",
        "from collections import Counter\n",
        "print(Counter(x))"
      ],
      "metadata": {
        "colab": {
          "base_uri": "https://localhost:8080/"
        },
        "id": "cVBZTp40x0J2",
        "outputId": "258b8822-fd62-4ded-cc2b-bd5254c9a849"
      },
      "execution_count": 2,
      "outputs": [
        {
          "output_type": "stream",
          "name": "stdout",
          "text": [
            "Counter({'o': 3, 'g': 2, 'l': 1, 'e': 1, '.': 1, 'c': 1, 'm': 1})\n"
          ]
        }
      ]
    },
    {
      "cell_type": "code",
      "source": [
        "ex1 = 'w3resource'\n",
        "ex2 = 'w3ce'\n",
        "ex3 = 'w3'\n",
        "ex4 = 'w3w3'\n",
        "ex5 = ' w'\n",
        "ex6 = ''\n",
        "def get_two(my_str):\n",
        "  if len(my_str) <= 2:\n",
        "    return \"\"\n",
        "  else:\n",
        "    return my_str[0:2] + my_str[-2:]\n",
        "print(get_two(ex1))\n",
        "print(get_two(ex2))\n",
        "print(get_two(ex3))\n",
        "print(get_two(ex4))\n",
        "print(get_two(ex5))\n",
        "print(get_two(ex6))"
      ],
      "metadata": {
        "colab": {
          "base_uri": "https://localhost:8080/"
        },
        "id": "w_Xp9le2zfNV",
        "outputId": "04a90829-8e38-4d1b-85ec-da55cfa5f5c8"
      },
      "execution_count": 3,
      "outputs": [
        {
          "output_type": "stream",
          "name": "stdout",
          "text": [
            "w3ce\n",
            "w3ce\n",
            "\n",
            "w3w3\n",
            "\n",
            "\n"
          ]
        }
      ]
    },
    {
      "cell_type": "markdown",
      "source": [
        "#4"
      ],
      "metadata": {
        "id": "M3J4fID_7eMj"
      }
    },
    {
      "cell_type": "code",
      "source": [
        "x = 'restart'\n",
        "def change_char(my_str):\n",
        "  char = my_str[0]\n",
        "  my_str = my_str.replace(char, '$')\n",
        "  my_str = char + my_str[1:]\n",
        "  return my_str\n",
        "print(change_char(x))"
      ],
      "metadata": {
        "colab": {
          "base_uri": "https://localhost:8080/"
        },
        "id": "zakLvXzV0zED",
        "outputId": "180916b8-e477-4ee7-a5e8-aa5ba5a90ed8"
      },
      "execution_count": 4,
      "outputs": [
        {
          "output_type": "stream",
          "name": "stdout",
          "text": [
            "resta$t\n"
          ]
        }
      ]
    },
    {
      "cell_type": "markdown",
      "source": [
        "#5"
      ],
      "metadata": {
        "id": "FsRe7PRr7m4T"
      }
    },
    {
      "cell_type": "code",
      "source": [
        "x1 = 'abc'\n",
        "x2 = 'xyz'\n",
        "def swap_char(a, b):\n",
        "  new_a = b[:2] + a[2:]\n",
        "  new_b = a[:2] + b[2:]\n",
        "  return new_a + ' ' + new_b\n",
        "print(swap_char(x1, x2))"
      ],
      "metadata": {
        "colab": {
          "base_uri": "https://localhost:8080/"
        },
        "id": "8yaivmqu7gBE",
        "outputId": "26aafec5-2e61-4eec-e2c6-dc8ea10260da"
      },
      "execution_count": 5,
      "outputs": [
        {
          "output_type": "stream",
          "name": "stdout",
          "text": [
            "xyc abz\n"
          ]
        }
      ]
    },
    {
      "cell_type": "markdown",
      "source": [
        "#6"
      ],
      "metadata": {
        "id": "E52UFgaB7_qC"
      }
    },
    {
      "cell_type": "code",
      "source": [
        "ex1 = 'abc'\n",
        "ex2 = 'string'\n",
        "def add_ing(my_str):\n",
        "  length = len(my_str)\n",
        "  if length > 2:\n",
        "    if my_str[-3:] == 'ing':\n",
        "      my_str += 'ly'\n",
        "    else:\n",
        "      my_str += 'ing'\n",
        "  return my_str\n",
        "print(add_ing(ex1))\n",
        "print(add_ing(ex2))"
      ],
      "metadata": {
        "id": "N6ySjA2U8A9q",
        "outputId": "fe057311-c8ce-4a5f-f6b7-ce2e350c89d0",
        "colab": {
          "base_uri": "https://localhost:8080/"
        }
      },
      "execution_count": 6,
      "outputs": [
        {
          "output_type": "stream",
          "name": "stdout",
          "text": [
            "abcing\n",
            "stringly\n"
          ]
        }
      ]
    },
    {
      "cell_type": "markdown",
      "source": [
        "#7"
      ],
      "metadata": {
        "id": "ase8qLPOK0si"
      }
    },
    {
      "cell_type": "code",
      "source": [
        "ex1 = 'The lyrics is not that poor!'\n",
        "ex2 = 'The lyrics is poor!'\n",
        "def not_poor(my_str):\n",
        "  snot = my_str.find('not')\n",
        "  spoor = my_str.find('poor')\n",
        "  if spoor > snot and snot>0 and spoor>0:\n",
        "    my_str = my_str.replace(my_str[snot:(spoor+4)], 'good')\n",
        "  return my_str\n",
        "print(not_poor(ex1))\n",
        "print(not_poor(ex2))"
      ],
      "metadata": {
        "id": "YAVaGPbaK1R7",
        "outputId": "36237b31-7316-46f6-8088-a7441eaa409a",
        "colab": {
          "base_uri": "https://localhost:8080/"
        }
      },
      "execution_count": 7,
      "outputs": [
        {
          "output_type": "stream",
          "name": "stdout",
          "text": [
            "The lyrics is good!\n",
            "The lyrics is poor!\n"
          ]
        }
      ]
    },
    {
      "cell_type": "markdown",
      "source": [
        "#9"
      ],
      "metadata": {
        "id": "-jPKwp8iLQxI"
      }
    },
    {
      "cell_type": "code",
      "source": [
        "x = \"Python\"\n",
        "def remove_char(my_str, i):\n",
        "  first_part = my_str[:i]\n",
        "  last_part = my_str[i+1:]\n",
        "  return first_part + last_part\n",
        "print(remove_char(x, 3))"
      ],
      "metadata": {
        "id": "26BX3r8XLR6U",
        "outputId": "7ab2fba7-d86d-4029-c213-96e03869f34a",
        "colab": {
          "base_uri": "https://localhost:8080/"
        }
      },
      "execution_count": 8,
      "outputs": [
        {
          "output_type": "stream",
          "name": "stdout",
          "text": [
            "Pyton\n"
          ]
        }
      ]
    },
    {
      "cell_type": "markdown",
      "source": [
        "#10"
      ],
      "metadata": {
        "id": "udPQ8tAVLy34"
      }
    },
    {
      "cell_type": "code",
      "source": [
        "x = \"Python\"\n",
        "def swap_char(my_str):\n",
        "  return my_str[-1:] + my_str[1:-1] + my_str[:1]\n",
        "print(swap_char(x))"
      ],
      "metadata": {
        "id": "7D23GPoMLzip",
        "outputId": "942a65ac-38cc-45b2-d29a-8066c9c73ccb",
        "colab": {
          "base_uri": "https://localhost:8080/"
        }
      },
      "execution_count": 9,
      "outputs": [
        {
          "output_type": "stream",
          "name": "stdout",
          "text": [
            "nythoP\n"
          ]
        }
      ]
    },
    {
      "cell_type": "markdown",
      "source": [
        "#11"
      ],
      "metadata": {
        "id": "gCRbzFyrMAWP"
      }
    },
    {
      "cell_type": "code",
      "source": [
        "x = \"Python\"\n",
        "def remove_odd_char(my_str):\n",
        "  result = \"\"\n",
        "  for i in range(len(my_str)):\n",
        "    if i % 2 == 0:\n",
        "      result = result + my_str[i]\n",
        "  return result\n",
        "print(remove_odd_char(x))"
      ],
      "metadata": {
        "id": "UQNoc74_L_xM",
        "outputId": "b454ccc6-4ec6-4b45-80a3-fd2aedd1ac4e",
        "colab": {
          "base_uri": "https://localhost:8080/"
        }
      },
      "execution_count": 10,
      "outputs": [
        {
          "output_type": "stream",
          "name": "stdout",
          "text": [
            "Pto\n"
          ]
        }
      ]
    },
    {
      "cell_type": "markdown",
      "source": [
        "#12"
      ],
      "metadata": {
        "id": "yfA1FnoQMgh4"
      }
    },
    {
      "cell_type": "code",
      "source": [
        "x = \"Hello World Hello\"\n",
        "def word_count(my_str):\n",
        "  counts = dict()\n",
        "  words = my_str.split()\n",
        "  for word in words:\n",
        "    if word in counts:\n",
        "      counts[word] += 1\n",
        "    else:\n",
        "      counts[word] = 1\n",
        "  return counts\n",
        "print(word_count(x))"
      ],
      "metadata": {
        "id": "eCnFJAQMMcBU",
        "outputId": "9bcadfb1-427d-4492-ea08-62401a1e2604",
        "colab": {
          "base_uri": "https://localhost:8080/"
        }
      },
      "execution_count": 11,
      "outputs": [
        {
          "output_type": "stream",
          "name": "stdout",
          "text": [
            "{'Hello': 2, 'World': 1}\n"
          ]
        }
      ]
    },
    {
      "cell_type": "markdown",
      "source": [
        "#13"
      ],
      "metadata": {
        "id": "ijK78EntNI1X"
      }
    },
    {
      "cell_type": "code",
      "source": [
        "name = input(\"Enter your name: \")\n",
        "print(\"Upper case:\",name.upper())\n",
        "print(\"Lower case:\",name.lower())"
      ],
      "metadata": {
        "id": "qapVwJrHNJY9",
        "outputId": "cf05f457-ea49-4ac2-c0f2-1dd718c25ac0",
        "colab": {
          "base_uri": "https://localhost:8080/"
        }
      },
      "execution_count": 12,
      "outputs": [
        {
          "output_type": "stream",
          "name": "stdout",
          "text": [
            "Enter your name: Thien\n",
            "Upper case: THIEN\n",
            "Lower case: thien\n"
          ]
        }
      ]
    },
    {
      "cell_type": "markdown",
      "source": [
        "#14"
      ],
      "metadata": {
        "id": "uQql1shTNXQ2"
      }
    },
    {
      "cell_type": "code",
      "source": [
        "ex = 'red, white, black, red, green, black'\n",
        "def word_sort(my_str):\n",
        "  counts = dict()\n",
        "  words = my_str.split(',')\n",
        "  for word in words:\n",
        "    if word in counts:\n",
        "      counts[word] += 1\n",
        "    else:\n",
        "      counts[word] = 1\n",
        "    counts = dict(sorted(counts.items()))\n",
        "  return counts\n",
        "for i in word_sort(ex):\n",
        "  print(i,end=',')"
      ],
      "metadata": {
        "id": "CMlqsBY9NX4M",
        "outputId": "886dd58b-33d2-4261-9e0e-0160ba793e75",
        "colab": {
          "base_uri": "https://localhost:8080/"
        }
      },
      "execution_count": 13,
      "outputs": [
        {
          "output_type": "stream",
          "name": "stdout",
          "text": [
            " black, green, red, white,red,"
          ]
        }
      ]
    },
    {
      "cell_type": "markdown",
      "source": [
        "#15"
      ],
      "metadata": {
        "id": "TMY_ihj1OmnU"
      }
    },
    {
      "cell_type": "code",
      "source": [
        "def add_tag(tag, word):\n",
        "  return \"<%s>%s</%s>\" % (tag, word, tag)\n",
        "print(add_tag('i', 'Python'))\n",
        "print(add_tag('b', 'Python Tutorial'))"
      ],
      "metadata": {
        "id": "iO15QaCAOnJr",
        "outputId": "1cdecd89-c6a0-40c8-c5b9-a07927382439",
        "colab": {
          "base_uri": "https://localhost:8080/"
        }
      },
      "execution_count": 14,
      "outputs": [
        {
          "output_type": "stream",
          "name": "stdout",
          "text": [
            "<i>Python</i>\n",
            "<b>Python Tutorial</b>\n"
          ]
        }
      ]
    },
    {
      "cell_type": "markdown",
      "source": [
        "#16"
      ],
      "metadata": {
        "id": "4_yD4qhJPGV-"
      }
    },
    {
      "cell_type": "code",
      "source": [
        "def insert_sting_middle(str1,str2):\n",
        "  return str1[:2] + str2 + str1[2:]\n",
        "print(insert_sting_middle('[[]]', 'Python'))\n",
        "print(insert_sting_middle('{{}}', 'PHP'))"
      ],
      "metadata": {
        "id": "EAYgOBHCPHNJ",
        "outputId": "7de4dad3-b3f1-4ca7-8890-12874688f625",
        "colab": {
          "base_uri": "https://localhost:8080/"
        }
      },
      "execution_count": 15,
      "outputs": [
        {
          "output_type": "stream",
          "name": "stdout",
          "text": [
            "[[Python]]\n",
            "{{PHP}}\n"
          ]
        }
      ]
    },
    {
      "cell_type": "markdown",
      "source": [
        "#17"
      ],
      "metadata": {
        "id": "nxU9ODKgPdL-"
      }
    },
    {
      "cell_type": "code",
      "source": [
        "def insert_end(my_str):\n",
        "  if len(my_str) < 2:\n",
        "    return\n",
        "  copy = my_str[-2:]\n",
        "  return copy*4\n",
        "print(insert_end('Python'))\n",
        "print(insert_end('Exercises'))"
      ],
      "metadata": {
        "id": "IRNbIhDlPeDe",
        "outputId": "d0d29715-8185-446f-9ccd-c7015ad0f2bf",
        "colab": {
          "base_uri": "https://localhost:8080/"
        }
      },
      "execution_count": 16,
      "outputs": [
        {
          "output_type": "stream",
          "name": "stdout",
          "text": [
            "onononon\n",
            "eseseses\n"
          ]
        }
      ]
    },
    {
      "cell_type": "markdown",
      "source": [
        "#18"
      ],
      "metadata": {
        "id": "-KcDEFMaP8dE"
      }
    },
    {
      "cell_type": "code",
      "source": [
        "def first_three(my_str):\n",
        "  if len(my_str) < 3:\n",
        "    return my_str\n",
        "  return my_str[:3]\n",
        "print(first_three('ipy'))\n",
        "print(first_three('python'))"
      ],
      "metadata": {
        "id": "jgzEMU_sP8_V",
        "outputId": "1ad38d8d-e7df-4247-9c36-a8368b988e7e",
        "colab": {
          "base_uri": "https://localhost:8080/"
        }
      },
      "execution_count": 17,
      "outputs": [
        {
          "output_type": "stream",
          "name": "stdout",
          "text": [
            "ipy\n",
            "pyt\n"
          ]
        }
      ]
    },
    {
      "cell_type": "markdown",
      "source": [
        "#19"
      ],
      "metadata": {
        "id": "AFbZSv3tQgrl"
      }
    },
    {
      "cell_type": "code",
      "source": [
        "x = 'www.w3resource.com/python-exercises'\n",
        "def get_last_part(my_str, sep):\n",
        "  return my_str.rsplit(sep, 1)[0]\n",
        "print(get_last_part(x, '/'))"
      ],
      "metadata": {
        "id": "gqWlYXv2QhRl",
        "outputId": "39232ad0-819e-418e-b435-88908e4af526",
        "colab": {
          "base_uri": "https://localhost:8080/"
        }
      },
      "execution_count": 18,
      "outputs": [
        {
          "output_type": "stream",
          "name": "stdout",
          "text": [
            "www.w3resource.com\n"
          ]
        }
      ]
    },
    {
      "cell_type": "markdown",
      "source": [
        "#20"
      ],
      "metadata": {
        "id": "4wiM1Bv3R-Qg"
      }
    },
    {
      "cell_type": "code",
      "source": [
        "x = 'abcd'\n",
        "def reverse(my_str):\n",
        "  if len(my_str) % 4 == 0:\n",
        "    return my_str[::-1]\n",
        "  return my_str\n",
        "print(reverse(x))"
      ],
      "metadata": {
        "id": "jAfLmBYFRqz1",
        "outputId": "d8ae4ec7-bb3f-466a-de70-91843df40751",
        "colab": {
          "base_uri": "https://localhost:8080/"
        }
      },
      "execution_count": 19,
      "outputs": [
        {
          "output_type": "stream",
          "name": "stdout",
          "text": [
            "dcba\n"
          ]
        }
      ]
    },
    {
      "cell_type": "markdown",
      "source": [
        "#21"
      ],
      "metadata": {
        "id": "fblWiI2yS155"
      }
    },
    {
      "cell_type": "code",
      "source": [
        "x = 'PyThon'\n",
        "def convert(my_str):\n",
        "  count = 0\n",
        "  for i in range(0,5):\n",
        "    if ('A'< my_str[i] <'Z'):\n",
        "      count+=1\n",
        "  if (count >= 2):\n",
        "    return my_str.upper()\n",
        "  return my_str\n",
        "print(convert(x))"
      ],
      "metadata": {
        "id": "wGGmcsQuS2cl",
        "outputId": "09af346a-7bca-4ac5-868a-2161ad40ca05",
        "colab": {
          "base_uri": "https://localhost:8080/"
        }
      },
      "execution_count": 20,
      "outputs": [
        {
          "output_type": "stream",
          "name": "stdout",
          "text": [
            "PYTHON\n"
          ]
        }
      ]
    },
    {
      "cell_type": "markdown",
      "source": [
        "#22"
      ],
      "metadata": {
        "id": "_Nqd4dBeV0a-"
      }
    },
    {
      "cell_type": "code",
      "source": [
        "ex = 'red white black green'\n",
        "\n",
        "def word_sort(my_str):\n",
        "  words = my_str.split()\n",
        "  return sorted(words)\n",
        "\n",
        "for word in word_sort(ex):\n",
        "  print(word, end=' ')"
      ],
      "metadata": {
        "id": "HSKcB_L7V1MP",
        "outputId": "102c422a-1ab2-4a07-efbd-9c30240ce46f",
        "colab": {
          "base_uri": "https://localhost:8080/"
        }
      },
      "execution_count": 21,
      "outputs": [
        {
          "output_type": "stream",
          "name": "stdout",
          "text": [
            "black green red white "
          ]
        }
      ]
    },
    {
      "cell_type": "markdown",
      "source": [
        "#23"
      ],
      "metadata": {
        "id": "h0wW24u7XMR0"
      }
    },
    {
      "cell_type": "code",
      "source": [
        "ex = 'Python\\n1\\n2\\n3'\n",
        "def remove_new_line(my_str):\n",
        "  return my_str.replace('\\n', '')\n",
        "print(remove_new_line(ex))"
      ],
      "metadata": {
        "id": "AtiEfh95XMxx",
        "outputId": "710c9c58-5935-439a-c621-0752692e8c2d",
        "colab": {
          "base_uri": "https://localhost:8080/"
        }
      },
      "execution_count": 22,
      "outputs": [
        {
          "output_type": "stream",
          "name": "stdout",
          "text": [
            "Python123\n"
          ]
        }
      ]
    },
    {
      "cell_type": "markdown",
      "source": [
        "#24"
      ],
      "metadata": {
        "id": "X6p0U15Sxu53"
      }
    },
    {
      "cell_type": "code",
      "source": [
        "ex = 'Python'\n",
        "def find_char(my_str, char):\n",
        "  return my_str[0] == char\n",
        "print(find_char(ex, 'P'))\n",
        "print(find_char(ex, 'p'))"
      ],
      "metadata": {
        "id": "-KDntzTTyUUQ",
        "outputId": "c32ae4e6-f0e9-4896-cd7f-99e1121de6d7",
        "colab": {
          "base_uri": "https://localhost:8080/"
        }
      },
      "execution_count": 23,
      "outputs": [
        {
          "output_type": "stream",
          "name": "stdout",
          "text": [
            "True\n",
            "False\n"
          ]
        }
      ]
    },
    {
      "cell_type": "markdown",
      "source": [
        "#27"
      ],
      "metadata": {
        "id": "6bEW5VBKzKBI"
      }
    },
    {
      "cell_type": "code",
      "source": [
        "ex = '''Việt Nam, quốc hiệu là Cộng hòa xã hội chủ nghĩa Việt Nam,[11] là một quốc gia nằm ở cực Đông của bán đảo Đông Dương thuộc khu vực Đông Nam Á, giáp với Lào, Campuchia, Trung Quốc, biển Đông và vịnh Thái Lan.\n",
        "      Lãnh thổ Việt Nam xuất hiện con người sinh sống từ thời đại đồ đá cũ, khởi đầu với các nhà nước Văn Lang, Âu Lạc. Âu Lạc bị nhà Triệu ở phương Bắc thôn tính vào đầu thế kỷ thứ 2 TCN sau đó là thời kỳ Bắc thuộc kéo dài hơn một thiên niên kỷ. Chế độ quân chủ độc lập được tái lập sau chiến thắng của Ngô Quyền trước nhà Nam Hán, mở đường cho các triều đại độc lập kế tục, nhiều lần chiến thắng trước các cuộc chiến tranh xâm lược từ phương Bắc đồng thời dần mở rộng về phía nam. Thời kỳ Bắc thuộc cuối cùng kết thúc sau chiến thắng trước nhà Minh của nghĩa quân Lam Sơn.\n",
        "'''\n",
        "def remove_indentation(text):\n",
        "    lines = text.splitlines()\n",
        "    result = \"\\n\".join([line.lstrip() for line in lines])\n",
        "    return result\n",
        "print(remove_indentation(ex))\n"
      ],
      "metadata": {
        "id": "gzVWN7JVzopx",
        "outputId": "57aec7b0-3701-45ec-c82b-c46f18ed9c89",
        "colab": {
          "base_uri": "https://localhost:8080/"
        }
      },
      "execution_count": 24,
      "outputs": [
        {
          "output_type": "stream",
          "name": "stdout",
          "text": [
            "Việt Nam, quốc hiệu là Cộng hòa xã hội chủ nghĩa Việt Nam,[11] là một quốc gia nằm ở cực Đông của bán đảo Đông Dương thuộc khu vực Đông Nam Á, giáp với Lào, Campuchia, Trung Quốc, biển Đông và vịnh Thái Lan.\n",
            "Lãnh thổ Việt Nam xuất hiện con người sinh sống từ thời đại đồ đá cũ, khởi đầu với các nhà nước Văn Lang, Âu Lạc. Âu Lạc bị nhà Triệu ở phương Bắc thôn tính vào đầu thế kỷ thứ 2 TCN sau đó là thời kỳ Bắc thuộc kéo dài hơn một thiên niên kỷ. Chế độ quân chủ độc lập được tái lập sau chiến thắng của Ngô Quyền trước nhà Nam Hán, mở đường cho các triều đại độc lập kế tục, nhiều lần chiến thắng trước các cuộc chiến tranh xâm lược từ phương Bắc đồng thời dần mở rộng về phía nam. Thời kỳ Bắc thuộc cuối cùng kết thúc sau chiến thắng trước nhà Minh của nghĩa quân Lam Sơn.\n"
          ]
        }
      ]
    },
    {
      "cell_type": "markdown",
      "source": [
        "#28"
      ],
      "metadata": {
        "id": "fJ34NnmuWBEu"
      }
    },
    {
      "cell_type": "code",
      "source": [
        "def add_prefix_to_lines(text, prefix):\n",
        "    lines = text.splitlines()\n",
        "    result = \"\\n\".join([prefix + line for line in lines])\n",
        "    return result\n",
        "\n",
        "prefix = \"- \"\n",
        "print(add_prefix_to_lines(ex, prefix))\n"
      ],
      "metadata": {
        "id": "V1Y8tt5TV-io",
        "outputId": "366aeb34-edc1-4d9c-99af-93be32a7e9c3",
        "colab": {
          "base_uri": "https://localhost:8080/"
        }
      },
      "execution_count": 25,
      "outputs": [
        {
          "output_type": "stream",
          "name": "stdout",
          "text": [
            "- Việt Nam, quốc hiệu là Cộng hòa xã hội chủ nghĩa Việt Nam,[11] là một quốc gia nằm ở cực Đông của bán đảo Đông Dương thuộc khu vực Đông Nam Á, giáp với Lào, Campuchia, Trung Quốc, biển Đông và vịnh Thái Lan.\n",
            "-       Lãnh thổ Việt Nam xuất hiện con người sinh sống từ thời đại đồ đá cũ, khởi đầu với các nhà nước Văn Lang, Âu Lạc. Âu Lạc bị nhà Triệu ở phương Bắc thôn tính vào đầu thế kỷ thứ 2 TCN sau đó là thời kỳ Bắc thuộc kéo dài hơn một thiên niên kỷ. Chế độ quân chủ độc lập được tái lập sau chiến thắng của Ngô Quyền trước nhà Nam Hán, mở đường cho các triều đại độc lập kế tục, nhiều lần chiến thắng trước các cuộc chiến tranh xâm lược từ phương Bắc đồng thời dần mở rộng về phía nam. Thời kỳ Bắc thuộc cuối cùng kết thúc sau chiến thắng trước nhà Minh của nghĩa quân Lam Sơn.\n"
          ]
        }
      ]
    },
    {
      "cell_type": "markdown",
      "source": [
        "#29"
      ],
      "metadata": {
        "id": "QEfIHfeKWiwe"
      }
    },
    {
      "cell_type": "code",
      "source": [
        "def indent_first_line(text):\n",
        "    lines = text.splitlines()\n",
        "    lines[0] = \"\\t\" + lines[0]\n",
        "    return \"\\n\".join(lines)\n",
        "print(indent_first_line(ex))\n"
      ],
      "metadata": {
        "id": "dpmyG0HeWjg2",
        "outputId": "0e65f987-7b41-4f62-c34f-f54e0c5ae04f",
        "colab": {
          "base_uri": "https://localhost:8080/"
        }
      },
      "execution_count": 26,
      "outputs": [
        {
          "output_type": "stream",
          "name": "stdout",
          "text": [
            "\tViệt Nam, quốc hiệu là Cộng hòa xã hội chủ nghĩa Việt Nam,[11] là một quốc gia nằm ở cực Đông của bán đảo Đông Dương thuộc khu vực Đông Nam Á, giáp với Lào, Campuchia, Trung Quốc, biển Đông và vịnh Thái Lan.\n",
            "      Lãnh thổ Việt Nam xuất hiện con người sinh sống từ thời đại đồ đá cũ, khởi đầu với các nhà nước Văn Lang, Âu Lạc. Âu Lạc bị nhà Triệu ở phương Bắc thôn tính vào đầu thế kỷ thứ 2 TCN sau đó là thời kỳ Bắc thuộc kéo dài hơn một thiên niên kỷ. Chế độ quân chủ độc lập được tái lập sau chiến thắng của Ngô Quyền trước nhà Nam Hán, mở đường cho các triều đại độc lập kế tục, nhiều lần chiến thắng trước các cuộc chiến tranh xâm lược từ phương Bắc đồng thời dần mở rộng về phía nam. Thời kỳ Bắc thuộc cuối cùng kết thúc sau chiến thắng trước nhà Minh của nghĩa quân Lam Sơn.\n"
          ]
        }
      ]
    },
    {
      "cell_type": "markdown",
      "source": [
        "#30"
      ],
      "metadata": {
        "id": "tbTXykJgXmP_"
      }
    },
    {
      "cell_type": "code",
      "source": [
        "ex = 12.32123\n",
        "def round_to_two_decimals(number):\n",
        "    return \"%.2f\" % number\n",
        "print(round_to_two_decimals(ex))"
      ],
      "metadata": {
        "id": "fQ7EV7nWXm89",
        "outputId": "26dca7c5-c4e8-42bf-f2db-dac1eb6617ce",
        "colab": {
          "base_uri": "https://localhost:8080/"
        }
      },
      "execution_count": 27,
      "outputs": [
        {
          "output_type": "stream",
          "name": "stdout",
          "text": [
            "12.32\n"
          ]
        }
      ]
    },
    {
      "cell_type": "markdown",
      "source": [
        "#31"
      ],
      "metadata": {
        "id": "tyVaikDNX61d"
      }
    },
    {
      "cell_type": "code",
      "source": [
        "ex = 12.0012\n",
        "def round_to_two_decimals(number):\n",
        "    return \"%.2f\" % number\n",
        "print(round_to_two_decimals(ex))"
      ],
      "metadata": {
        "id": "wJQSSmzXXxtC",
        "outputId": "8fff277d-1ad6-487f-ad4a-5da8e157b267",
        "colab": {
          "base_uri": "https://localhost:8080/"
        }
      },
      "execution_count": 28,
      "outputs": [
        {
          "output_type": "stream",
          "name": "stdout",
          "text": [
            "12.00\n"
          ]
        }
      ]
    },
    {
      "cell_type": "markdown",
      "source": [
        "#35"
      ],
      "metadata": {
        "id": "TlXzlkJ4Yc3r"
      }
    },
    {
      "cell_type": "code",
      "source": [
        "ex = 1234\n",
        "def separate(number):\n",
        "    n = str(number)\n",
        "    for i in range(len(n)-3, 0, -3):\n",
        "        n = n[:i] + ',' + n[i:]\n",
        "    return n\n",
        "print(separate(ex))"
      ],
      "metadata": {
        "id": "-65hNs3FYdcc",
        "outputId": "fa91c02d-8756-4018-9c7c-af0173f4fb9f",
        "colab": {
          "base_uri": "https://localhost:8080/"
        }
      },
      "execution_count": 29,
      "outputs": [
        {
          "output_type": "stream",
          "name": "stdout",
          "text": [
            "1,234\n"
          ]
        }
      ]
    },
    {
      "cell_type": "markdown",
      "source": [
        "#36"
      ],
      "metadata": {
        "id": "eZROznJTZmJl"
      }
    },
    {
      "cell_type": "code",
      "source": [
        "ex = 12/100\n",
        "def percentage_format(ex):\n",
        "  return str(ex*100)+\"%\"\n",
        "print(percentage_format(ex))"
      ],
      "metadata": {
        "id": "A6eSOiDWZlvP",
        "outputId": "36a42168-5bb2-4ac7-d2da-3f95b446f96d",
        "colab": {
          "base_uri": "https://localhost:8080/"
        }
      },
      "execution_count": 30,
      "outputs": [
        {
          "output_type": "stream",
          "name": "stdout",
          "text": [
            "12.0%\n"
          ]
        }
      ]
    },
    {
      "cell_type": "markdown",
      "source": [
        "#37"
      ],
      "metadata": {
        "id": "8_vHJkR5aW11"
      }
    },
    {
      "cell_type": "code",
      "source": [
        "number = 12345\n",
        "\n",
        "print(f\"{number:<10}\")\n",
        "print(f\"{number:>10}\")\n",
        "print(f\"{number:^10}\")"
      ],
      "metadata": {
        "id": "kEwt69pKaXxf",
        "outputId": "35630778-c8ba-4ab7-8681-dca175eeb3f4",
        "colab": {
          "base_uri": "https://localhost:8080/"
        }
      },
      "execution_count": 31,
      "outputs": [
        {
          "output_type": "stream",
          "name": "stdout",
          "text": [
            "12345     \n",
            "     12345\n",
            "  12345   \n"
          ]
        }
      ]
    },
    {
      "cell_type": "markdown",
      "source": [
        "#38"
      ],
      "metadata": {
        "id": "0YMCOPo_aig7"
      }
    },
    {
      "cell_type": "code",
      "source": [
        "def count_substring(string, substring):\n",
        "  return string.count(substring)\n",
        "\n",
        "# Example usage\n",
        "ex = '''Việt Nam, quốc hiệu là Cộng hòa xã hội chủ nghĩa Việt Nam,[11] là một quốc gia nằm ở cực Đông của bán đảo Đông Dương thuộc khu vực Đông Nam Á, giáp với Lào, Campuchia, Trung Quốc, biển Đông và vịnh Thái Lan.\n",
        "      Lãnh thổ Việt Nam xuất hiện con người sinh sống từ thời đại đồ đá cũ, khởi đầu với các nhà nước Văn Lang, Âu Lạc. Âu Lạc bị nhà Triệu ở phương Bắc thôn tính vào đầu thế kỷ thứ 2 TCN sau đó là thời kỳ Bắc thuộc kéo dài hơn một thiên niên kỷ. Chế độ quân chủ độc lập được tái lập sau chiến thắng của Ngô Quyền trước nhà Nam Hán, mở đường cho các triều đại độc lập kế tục, nhiều lần chiến thắng trước các cuộc chiến tranh xâm lược từ phương Bắc đồng thời dần mở rộng về phía nam. Thời kỳ Bắc thuộc cuối cùng kết thúc sau chiến thắng trước nhà Minh của nghĩa quân Lam Sơn.\n",
        "'''\n",
        "substring = \"Việt\"\n",
        "count = count_substring(ex, substring)\n",
        "print(f\"Từ '{substring}' xuất hiện {count} lần\")\n",
        "\n",
        "# To see the output, run the code."
      ],
      "metadata": {
        "id": "Rlk4_wBiajHM",
        "outputId": "a31d62b2-ec9d-44ca-b989-5fc62ef784de",
        "colab": {
          "base_uri": "https://localhost:8080/"
        }
      },
      "execution_count": 32,
      "outputs": [
        {
          "output_type": "stream",
          "name": "stdout",
          "text": [
            "Từ 'Việt' xuất hiện 3 lần\n"
          ]
        }
      ]
    },
    {
      "cell_type": "markdown",
      "source": [
        "#39"
      ],
      "metadata": {
        "id": "sY9RMKLha-Si"
      }
    },
    {
      "cell_type": "code",
      "source": [
        "ex = 'Python ne'\n",
        "def reverse(my_str):\n",
        "  return my_str[::-1]\n",
        "print(reverse(ex))"
      ],
      "metadata": {
        "id": "TEmGbwUja_F3",
        "outputId": "0e96c2f9-9f9e-463d-aae1-b84435bb0eef",
        "colab": {
          "base_uri": "https://localhost:8080/"
        }
      },
      "execution_count": 33,
      "outputs": [
        {
          "output_type": "stream",
          "name": "stdout",
          "text": [
            "en nohtyP\n"
          ]
        }
      ]
    },
    {
      "cell_type": "markdown",
      "source": [
        "#40"
      ],
      "metadata": {
        "id": "Cwm5jQypbY_r"
      }
    },
    {
      "cell_type": "code",
      "source": [
        "ex = 'Python ne'\n",
        "def reverse(my_str, word):\n",
        "  if word in my_str:\n",
        "    return my_str.replace(word, word[::-1])\n",
        "print(reverse(ex, 'ne'))"
      ],
      "metadata": {
        "id": "3cGf9woXbZmW",
        "outputId": "d1807a63-67e3-429b-f28a-ab54a56faf8e",
        "colab": {
          "base_uri": "https://localhost:8080/"
        }
      },
      "execution_count": 34,
      "outputs": [
        {
          "output_type": "stream",
          "name": "stdout",
          "text": [
            "Python en\n"
          ]
        }
      ]
    },
    {
      "cell_type": "markdown",
      "source": [
        "#41"
      ],
      "metadata": {
        "id": "OMzP7lSFcHHt"
      }
    },
    {
      "cell_type": "code",
      "source": [
        "def strip_chars(str, chars):\n",
        "  return \"\".join([c for c in str if c not in chars])\n",
        "\n",
        "string = \"Hello, world!\"\n",
        "chars_to_strip = \",!\"\n",
        "stripped_string = strip_chars(string, chars_to_strip)\n",
        "print(stripped_string)"
      ],
      "metadata": {
        "id": "Vhde0QzwcIyN",
        "outputId": "84768f21-3b4a-43a6-fe27-80ebba0e9837",
        "colab": {
          "base_uri": "https://localhost:8080/"
        }
      },
      "execution_count": 35,
      "outputs": [
        {
          "output_type": "stream",
          "name": "stdout",
          "text": [
            "Hello world\n"
          ]
        }
      ]
    },
    {
      "cell_type": "markdown",
      "source": [
        "#42"
      ],
      "metadata": {
        "id": "RxAAjq73d9K_"
      }
    },
    {
      "cell_type": "code",
      "source": [
        "ex = 'thequickbrownfoxjumpsoverthelazydog'\n",
        "\n",
        "def count_char(my_str):\n",
        "  counts = dict()\n",
        "  for char in my_str:\n",
        "    if char in counts:\n",
        "      counts[char] += 1\n",
        "    else:\n",
        "      counts[char] = 1\n",
        "  return [char +\" \"+ str(frequency) for char, frequency in counts.items() if frequency > 1]\n",
        "\n",
        "print(count_char(ex))"
      ],
      "metadata": {
        "id": "uP3A9Mgld-Ma",
        "outputId": "e2453c10-004b-41b7-cfd5-237a1661635e",
        "colab": {
          "base_uri": "https://localhost:8080/"
        }
      },
      "execution_count": 36,
      "outputs": [
        {
          "output_type": "stream",
          "name": "stdout",
          "text": [
            "['t 2', 'h 2', 'e 3', 'u 2', 'r 2', 'o 4']\n"
          ]
        }
      ]
    },
    {
      "cell_type": "markdown",
      "source": [
        "#43"
      ],
      "metadata": {
        "id": "ijOESNQ_gJt-"
      }
    },
    {
      "cell_type": "code",
      "source": [
        "def calculate_rectangle_area(length, width):\n",
        "    area = length * width\n",
        "    return area\n",
        "\n",
        "def calculate_cylinder_volume(radius, height):\n",
        "    volume = 3.14 * radius**2 * height\n",
        "    return volume\n",
        "\n",
        "length = 10\n",
        "width = 8\n",
        "\n",
        "radius = 1\n",
        "height = 2\n",
        "\n",
        "rectangle_area = calculate_rectangle_area(length, width)\n",
        "cylinder_volume = calculate_cylinder_volume(radius, height)\n",
        "\n",
        "print(f\"The area of the rectangle is {rectangle_area:.2f}cm\\u00B2\")\n",
        "print(f\"The volume of the cylinder is {cylinder_volume:.3f}cm\\u00B3\")"
      ],
      "metadata": {
        "id": "DY3Y9pysgKWz",
        "outputId": "dfd437f7-3541-404a-9d46-a2c9cb12975c",
        "colab": {
          "base_uri": "https://localhost:8080/"
        }
      },
      "execution_count": 37,
      "outputs": [
        {
          "output_type": "stream",
          "name": "stdout",
          "text": [
            "The area of the rectangle is 80.00cm²\n",
            "The volume of the cylinder is 6.280cm³\n"
          ]
        }
      ]
    },
    {
      "cell_type": "markdown",
      "source": [
        "#44"
      ],
      "metadata": {
        "id": "SZt6yRLthGTQ"
      }
    },
    {
      "cell_type": "code",
      "source": [
        "ex = 'w3resource'\n",
        "for i in range(0,len(ex)):\n",
        "  print(f'Current character {ex[i]} position at {i}')"
      ],
      "metadata": {
        "id": "4k_HTzONhHZX",
        "outputId": "1a826b6f-b593-4a57-91ba-66bf030c16bf",
        "colab": {
          "base_uri": "https://localhost:8080/"
        }
      },
      "execution_count": 38,
      "outputs": [
        {
          "output_type": "stream",
          "name": "stdout",
          "text": [
            "Current character w position at 0\n",
            "Current character 3 position at 1\n",
            "Current character r position at 2\n",
            "Current character e position at 3\n",
            "Current character s position at 4\n",
            "Current character o position at 5\n",
            "Current character u position at 6\n",
            "Current character r position at 7\n",
            "Current character c position at 8\n",
            "Current character e position at 9\n"
          ]
        }
      ]
    },
    {
      "cell_type": "markdown",
      "source": [
        "#45"
      ],
      "metadata": {
        "id": "AhmucQVSrULo"
      }
    },
    {
      "cell_type": "code",
      "source": [
        "import string\n",
        "\n",
        "def is_pangram(text):\n",
        "  text = text.lower()\n",
        "  alphabet = set(string.ascii_lowercase)\n",
        "  return set(text) >= alphabet\n",
        "ex = 'The quick brown fox jumps over the lazy dog.'\n",
        "if is_pangram(ex):\n",
        "  print(\"Chứa hết\")\n",
        "else:\n",
        "  print(\"Ko chứa hết\")"
      ],
      "metadata": {
        "id": "acAnOtOGrVAj",
        "outputId": "178abe75-4f8a-436b-eb74-8a49840c0fe0",
        "colab": {
          "base_uri": "https://localhost:8080/"
        }
      },
      "execution_count": 39,
      "outputs": [
        {
          "output_type": "stream",
          "name": "stdout",
          "text": [
            "Chứa hết\n"
          ]
        }
      ]
    },
    {
      "cell_type": "markdown",
      "source": [
        "#46"
      ],
      "metadata": {
        "id": "_bFQcd_gtwM1"
      }
    },
    {
      "cell_type": "code",
      "source": [
        "ex = 'The quick brown fox jumps over the lazy dog.'\n",
        "lst = ex.split(' ')\n",
        "print(lst)"
      ],
      "metadata": {
        "id": "gHULYGVGsmvr",
        "outputId": "163ca8cf-3821-4d53-b6ab-f223cc0140cb",
        "colab": {
          "base_uri": "https://localhost:8080/"
        }
      },
      "execution_count": 40,
      "outputs": [
        {
          "output_type": "stream",
          "name": "stdout",
          "text": [
            "['The', 'quick', 'brown', 'fox', 'jumps', 'over', 'the', 'lazy', 'dog.']\n"
          ]
        }
      ]
    },
    {
      "cell_type": "markdown",
      "source": [
        "#47"
      ],
      "metadata": {
        "id": "Lgt6jtx5t-P8"
      }
    },
    {
      "cell_type": "code",
      "source": [
        "ex = 'PYThoN'\n",
        "n = 3\n",
        "def lower_n(my_str, n):\n",
        "  return my_str[:n].lower() + my_str[n:]\n",
        "print(lower_n(ex, n))"
      ],
      "metadata": {
        "id": "dsqURoWitxN_",
        "outputId": "b0f2b678-41d9-4e55-bb51-87be8d3c9d31",
        "colab": {
          "base_uri": "https://localhost:8080/"
        }
      },
      "execution_count": 41,
      "outputs": [
        {
          "output_type": "stream",
          "name": "stdout",
          "text": [
            "pythoN\n"
          ]
        }
      ]
    },
    {
      "cell_type": "markdown",
      "source": [
        "#48"
      ],
      "metadata": {
        "id": "JwQ9OIoOvJ11"
      }
    },
    {
      "cell_type": "code",
      "source": [
        "def swap_commas_dots(text):\n",
        "  text = text.replace(',', '@')\n",
        "  text = text.replace('.', ',')\n",
        "  text = text.replace('@', '.')\n",
        "  return text\n",
        "ex = '32.054,23'\n",
        "\n",
        "swapped_string = swap_commas_dots(ex)\n",
        "\n",
        "print(\"Result:\", swapped_string)"
      ],
      "metadata": {
        "colab": {
          "base_uri": "https://localhost:8080/"
        },
        "id": "-b9uEQ38uDvj",
        "outputId": "44e17abc-a394-4800-8c67-b03560a466a1"
      },
      "execution_count": 42,
      "outputs": [
        {
          "output_type": "stream",
          "name": "stdout",
          "text": [
            "Result: 32,054.23\n"
          ]
        }
      ]
    },
    {
      "cell_type": "markdown",
      "source": [
        "#49"
      ],
      "metadata": {
        "id": "1vx22Iu2wmxE"
      }
    },
    {
      "cell_type": "code",
      "source": [
        "def count_vowels(text):\n",
        "  vowels = \"aeiouAEIOU\"\n",
        "  vowel_counts = {}\n",
        "\n",
        "  for char in text:\n",
        "    if char in vowels:\n",
        "      vowel_counts[char] = vowel_counts.get(char, 0) + 1\n",
        "\n",
        "  return vowel_counts\n",
        "\n",
        "text = \"Python\"\n",
        "\n",
        "vowel_counts = count_vowels(text)\n",
        "\n",
        "print(\"Vowel counts:\")\n",
        "for vowel, count in vowel_counts.items():\n",
        "  print(f\"{vowel}: {count}\")"
      ],
      "metadata": {
        "id": "46G6DNwwwnm-",
        "outputId": "fa580e78-1cf2-4980-8b2f-19512f64ee93",
        "colab": {
          "base_uri": "https://localhost:8080/"
        }
      },
      "execution_count": 43,
      "outputs": [
        {
          "output_type": "stream",
          "name": "stdout",
          "text": [
            "Enter some text: Python\n",
            "Vowel counts:\n",
            "o: 1\n"
          ]
        }
      ]
    },
    {
      "cell_type": "markdown",
      "source": [
        "#50"
      ],
      "metadata": {
        "id": "2lUFw8vk4jXr"
      }
    },
    {
      "cell_type": "code",
      "source": [
        "def split_on_last_occurrence(string, delimiter):\n",
        "  last_occurrence = string.rfind(delimiter)\n",
        "  if last_occurrence != -1:\n",
        "    return [string[:last_occurrence], string[last_occurrence + 1:]]\n",
        "  else:\n",
        "    return [string]\n",
        "\n",
        "string = 'Hello'\n",
        "delimiter = 'l'\n",
        "\n",
        "result = split_on_last_occurrence(string, delimiter)\n",
        "\n",
        "print(\"Split string:\", result)"
      ],
      "metadata": {
        "id": "Su9_xL2l4kC3",
        "outputId": "2fd4f6b4-8dd8-4eee-d417-3f54a0efdb01",
        "colab": {
          "base_uri": "https://localhost:8080/"
        }
      },
      "execution_count": 45,
      "outputs": [
        {
          "output_type": "stream",
          "name": "stdout",
          "text": [
            "Split string: ['Hel', 'o']\n"
          ]
        }
      ]
    },
    {
      "cell_type": "markdown",
      "source": [
        "#51"
      ],
      "metadata": {
        "id": "_6Z1wdDM5FJQ"
      }
    },
    {
      "cell_type": "code",
      "source": [
        "def find_first_non_repeating_char(string):\n",
        "  char_counts = {}\n",
        "\n",
        "  for char in string:\n",
        "    char_counts[char] = char_counts.get(char, 0) + 1\n",
        "\n",
        "  for char in string:\n",
        "    if char_counts[char] == 1:\n",
        "      return char\n",
        "\n",
        "  return None\n",
        "\n",
        "string = \"ooolqa\"\n",
        "\n",
        "result = find_first_non_repeating_char(string)\n",
        "\n",
        "if result:\n",
        "  print(\"Từ đầu tiên ko lặp là:\", result)\n",
        "else:\n",
        "  print(\"Tất cả từ đều lập\")"
      ],
      "metadata": {
        "id": "AJ6ds2t_5F0k",
        "outputId": "f4c45be9-3433-42d3-f0f5-396bb97228de",
        "colab": {
          "base_uri": "https://localhost:8080/"
        }
      },
      "execution_count": 46,
      "outputs": [
        {
          "output_type": "stream",
          "name": "stdout",
          "text": [
            "The first non-repeating character is: l\n"
          ]
        }
      ]
    },
    {
      "cell_type": "markdown",
      "source": [
        "#52"
      ],
      "metadata": {
        "id": "LJr9o4a36J5g"
      }
    },
    {
      "cell_type": "code",
      "source": [
        "def permutations_with_repetition(string, repetition):\n",
        "  def generate_permutations(current_permutation, remaining_repetition):\n",
        "    if remaining_repetition == 0:\n",
        "      print(current_permutation)\n",
        "      return\n",
        "\n",
        "    for char in string:\n",
        "      generate_permutations(current_permutation + char, remaining_repetition - 1)\n",
        "\n",
        "  generate_permutations(\"\", repetition)\n",
        "\n",
        "string = 'abc'\n",
        "repetition = 2\n",
        "\n",
        "permutations_with_repetition(string, repetition)"
      ],
      "metadata": {
        "id": "f6ZETpVj6KhG",
        "outputId": "ec9d2696-6341-4b26-b014-68e4c763feb3",
        "colab": {
          "base_uri": "https://localhost:8080/"
        }
      },
      "execution_count": 48,
      "outputs": [
        {
          "output_type": "stream",
          "name": "stdout",
          "text": [
            "aa\n",
            "ab\n",
            "ac\n",
            "ba\n",
            "bb\n",
            "bc\n",
            "ca\n",
            "cb\n",
            "cc\n"
          ]
        }
      ]
    },
    {
      "cell_type": "markdown",
      "source": [
        "#53"
      ],
      "metadata": {
        "id": "UskG3p296t__"
      }
    },
    {
      "cell_type": "code",
      "source": [
        "def find_first_repeated_char(string):\n",
        "  char_counts = {}\n",
        "\n",
        "  for char in string:\n",
        "    if char in char_counts:\n",
        "      return char\n",
        "    else:\n",
        "      char_counts[char] = 1\n",
        "\n",
        "  return None\n",
        "\n",
        "string = 'abbc'\n",
        "\n",
        "result = find_first_repeated_char(string)\n",
        "\n",
        "if result:\n",
        "  print(\"Từ đầu tiên lặp là:\", result)\n",
        "else:\n",
        "  print(\"Ko có từ trùng\")"
      ],
      "metadata": {
        "id": "ucIki9k36uvu",
        "outputId": "dafa1a4c-c2fe-41e1-a808-58962b60a757",
        "colab": {
          "base_uri": "https://localhost:8080/"
        }
      },
      "execution_count": 51,
      "outputs": [
        {
          "output_type": "stream",
          "name": "stdout",
          "text": [
            "Từ đầu tiên lặp là: b\n"
          ]
        }
      ]
    },
    {
      "cell_type": "markdown",
      "source": [
        "#54"
      ],
      "metadata": {
        "id": "-nR7jNc87DiO"
      }
    },
    {
      "cell_type": "code",
      "source": [
        "def find_first_repeated_char_with_smallest_index(string):\n",
        "  char_indices = {}\n",
        "\n",
        "  for index, char in enumerate(string):\n",
        "    if char in char_indices:\n",
        "      return char\n",
        "    else:\n",
        "      char_indices[char] = index\n",
        "\n",
        "  return None\n",
        "\n",
        "string = 'Pythoonnn'\n",
        "\n",
        "result = find_first_repeated_char_with_smallest_index(string)\n",
        "\n",
        "if result:\n",
        "  print(\"Từ đầu tiên lặp là:\", result)\n",
        "else:\n",
        "  print(\"Ko có từ trùng\")"
      ],
      "metadata": {
        "id": "HMZd0Mxt7Eg8",
        "outputId": "b9f26805-f88e-4714-c319-0ae6c5ab1195",
        "colab": {
          "base_uri": "https://localhost:8080/"
        }
      },
      "execution_count": 55,
      "outputs": [
        {
          "output_type": "stream",
          "name": "stdout",
          "text": [
            "Từ đầu tiên lặp là: o\n"
          ]
        }
      ]
    },
    {
      "cell_type": "markdown",
      "source": [
        "#55"
      ],
      "metadata": {
        "id": "YtMDsV9q718Q"
      }
    },
    {
      "cell_type": "code",
      "source": [
        "def find_first_repeated_word(string):\n",
        "  words = string.split()\n",
        "  word_counts = {}\n",
        "\n",
        "  for word in words:\n",
        "    if word in word_counts:\n",
        "      return word\n",
        "    else:\n",
        "      word_counts[word] = 1\n",
        "\n",
        "  return None\n",
        "\n",
        "string = 'Python python python'\n",
        "\n",
        "result = find_first_repeated_word(string)\n",
        "\n",
        "if result:\n",
        "  print(\"Từ trùng đầu tiên là:\", result)\n",
        "else:\n",
        "  print('Ko có từ trùng')"
      ],
      "metadata": {
        "id": "Q6CvRrj47__n",
        "outputId": "a00b1473-d614-4ac9-eec0-19c67836fe7b",
        "colab": {
          "base_uri": "https://localhost:8080/"
        }
      },
      "execution_count": 59,
      "outputs": [
        {
          "output_type": "stream",
          "name": "stdout",
          "text": [
            "The first repeated word is: python\n"
          ]
        }
      ]
    },
    {
      "cell_type": "markdown",
      "source": [
        "#56"
      ],
      "metadata": {
        "id": "AdY8RmH38WF3"
      }
    },
    {
      "cell_type": "code",
      "source": [
        "from collections import Counter\n",
        "\n",
        "def find_second_most_repeated_word(string):\n",
        "  word_counts = Counter(string.lower().split())\n",
        "\n",
        "  if len(word_counts) < 2:\n",
        "      return None\n",
        "\n",
        "  most_common_words = word_counts.most_common(2)\n",
        "  second_most_common_word = most_common_words[1][0]\n",
        "\n",
        "  return second_most_common_word\n",
        "\n",
        "string = 'Python ne ne ne ba ba'\n",
        "\n",
        "result = find_second_most_repeated_word(string)\n",
        "\n",
        "if result:\n",
        "  print(\"Từ trùng nhiều thứ 2 là:\", result)\n",
        "else:\n",
        "  print(\"Ko có từ trùng\")"
      ],
      "metadata": {
        "id": "0ZMh1NRd8WuY",
        "outputId": "3b38474c-da93-4bdb-fe04-b3ffc16fda33",
        "colab": {
          "base_uri": "https://localhost:8080/"
        }
      },
      "execution_count": 63,
      "outputs": [
        {
          "output_type": "stream",
          "name": "stdout",
          "text": [
            "Từ trùng nhiều thứ 2 là: ba\n"
          ]
        }
      ]
    },
    {
      "cell_type": "markdown",
      "source": [
        "#57"
      ],
      "metadata": {
        "id": "Dbd0lNx09SFV"
      }
    },
    {
      "cell_type": "code",
      "source": [
        "def remove_spaces(string):\n",
        "  return string.replace(\" \", \"\")\n",
        "\n",
        "string = 'Python ne'\n",
        "\n",
        "string_without_spaces = remove_spaces(string)\n",
        "\n",
        "print(\"Chuỗi sau khi bỏ space:\", string_without_spaces)"
      ],
      "metadata": {
        "id": "uacuMKh19Sr6",
        "outputId": "54023e15-0020-48ee-e905-eadc0b5bd8db",
        "colab": {
          "base_uri": "https://localhost:8080/"
        }
      },
      "execution_count": 65,
      "outputs": [
        {
          "output_type": "stream",
          "name": "stdout",
          "text": [
            "Chuỗi sau khi bỏ space: Pythonne\n"
          ]
        }
      ]
    },
    {
      "cell_type": "markdown",
      "source": [
        "#58"
      ],
      "metadata": {
        "id": "BeCZCCkc9yqm"
      }
    },
    {
      "cell_type": "code",
      "source": [
        "def move_spaces_to_front(string):\n",
        "  spaces = string.count(\" \")\n",
        "  no_spaces = string.replace(\" \", \"\")\n",
        "  result = \" \" * spaces + no_spaces\n",
        "  return result\n",
        "\n",
        "string = 'Python ne'\n",
        "\n",
        "modified_string = move_spaces_to_front(string)\n",
        "\n",
        "print(modified_string)"
      ],
      "metadata": {
        "id": "3AyxYxPN9zYR",
        "outputId": "2ed94bd6-bc4e-4064-8821-c869f657e847",
        "colab": {
          "base_uri": "https://localhost:8080/"
        }
      },
      "execution_count": 71,
      "outputs": [
        {
          "output_type": "stream",
          "name": "stdout",
          "text": [
            " Pythonne\n"
          ]
        }
      ]
    },
    {
      "cell_type": "markdown",
      "source": [
        "#59"
      ],
      "metadata": {
        "id": "pEsUhjSn_88K"
      }
    },
    {
      "cell_type": "code",
      "source": [
        "def find_max_char(string):\n",
        "  char_counts = {}\n",
        "\n",
        "  for char in string:\n",
        "    char_counts[char] = char_counts.get(char, 0) + 1\n",
        "\n",
        "  max_char = max(char_counts, key=char_counts.get)\n",
        "  max_count = char_counts[max_char]\n",
        "\n",
        "  return max_char, max_count\n",
        "\n",
        "string = 'PythonP'\n",
        "\n",
        "max_char, max_count = find_max_char(string)\n",
        "\n",
        "print(f\"Từ '{max_char}' xuất hiện nhiều nhất ({max_count} lần).\")"
      ],
      "metadata": {
        "id": "rYB2FDiY_tvG",
        "outputId": "13f7b6cd-d9bf-4fe7-a942-bb84dea80c14",
        "colab": {
          "base_uri": "https://localhost:8080/"
        }
      },
      "execution_count": 76,
      "outputs": [
        {
          "output_type": "stream",
          "name": "stdout",
          "text": [
            "Từ 'P' xuất hiện nhiều nhất (2 lần).\n"
          ]
        }
      ]
    },
    {
      "cell_type": "markdown",
      "source": [
        "#60"
      ],
      "metadata": {
        "id": "ImVf_mpb_-G0"
      }
    },
    {
      "cell_type": "code",
      "source": [
        "def capitalize_first_last_letters(string):\n",
        "  words = string.split()\n",
        "  modified_words = []\n",
        "\n",
        "  for word in words:\n",
        "    if len(word) > 1:\n",
        "      modified_word = word[0].upper() + word[1:-1] + word[-1].upper()\n",
        "    else:\n",
        "      modified_word = word.upper()\n",
        "\n",
        "    modified_words.append(modified_word)\n",
        "\n",
        "  return \" \".join(modified_words)\n",
        "\n",
        "string = 'Python ne'\n",
        "\n",
        "modified_string = capitalize_first_last_letters(string)\n",
        "\n",
        "print(modified_string)"
      ],
      "metadata": {
        "id": "ZYDl2JFSADCI",
        "outputId": "4b9c23b0-0b86-428a-dfd4-d89d5ea21f38",
        "colab": {
          "base_uri": "https://localhost:8080/"
        }
      },
      "execution_count": 78,
      "outputs": [
        {
          "output_type": "stream",
          "name": "stdout",
          "text": [
            "PythoN NE\n"
          ]
        }
      ]
    }
  ]
}